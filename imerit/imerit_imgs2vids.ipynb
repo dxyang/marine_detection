{
 "cells": [
  {
   "cell_type": "code",
   "execution_count": 1,
   "id": "e5e3ef8c-0e0e-41a1-9c39-38449c9697c9",
   "metadata": {},
   "outputs": [],
   "source": [
    "import glob\n",
    "import jsonlines\n",
    "from pathlib import Path\n",
    "import natsort\n",
    "import matplotlib.pyplot as plt\n",
    "import numpy as np\n",
    "import seaborn as sns\n",
    "import subprocess\n",
    "from tqdm import tqdm "
   ]
  },
  {
   "cell_type": "code",
   "execution_count": 20,
   "id": "d8dc2b34-c794-49a4-a8b7-4e2181f241bb",
   "metadata": {},
   "outputs": [],
   "source": [
    "annotations_dir = \"/media/data/warp_data/marine_detection/imerit/whoi-rsi-fish-detection-datasets-22122023\"\n",
    "images_dir = \"/media/data/warp_data/marine_detection/imerit/whoi-rsi-fish-detection-datasets-22122023\"\n",
    "manifest_path = \"/media/data/warp_data/marine_detection/imerit/whoi-rsi-fish-detection-datasets-22122023/28102023_manifest.json\""
   ]
  },
  {
   "cell_type": "code",
   "execution_count": 21,
   "id": "048ae560-65b8-436e-a06c-a0f79253a8c4",
   "metadata": {},
   "outputs": [],
   "source": [
    "annotation_files = glob.glob(f\"{annotations_dir}/annotations/consolidated-annotation/output/*/*.json\")\n",
    "annotation_files = natsort.natsorted(annotation_files)"
   ]
  },
  {
   "cell_type": "code",
   "execution_count": 22,
   "id": "090598b5-ac37-4e8a-a240-5b23b090e23e",
   "metadata": {},
   "outputs": [],
   "source": [
    "# Parse manifest\n",
    "ordered_video_dirs = []\n",
    "replace_root = \"s3://whoi-rsi-fish-detection/datasets/imerit_26102023_clips/\"\n",
    "with jsonlines.open(manifest_path) as f:\n",
    "    for video_num, video_json in enumerate(f):\n",
    "        video_path = Path(video_json['source-ref'].replace(replace_root, \"\"))\n",
    "        ordered_video_dirs.append(video_path.parent)"
   ]
  },
  {
   "cell_type": "code",
   "execution_count": 25,
   "id": "a6150e3a-0d85-43cb-8870-8d4a684687eb",
   "metadata": {},
   "outputs": [
    {
     "name": "stderr",
     "output_type": "stream",
     "text": [
      "100%|█████████████████████████████████████████████████████████████████████████████████████████████████████| 163/163 [00:07<00:00, 22.89it/s]\n"
     ]
    }
   ],
   "source": [
    "# Generate videos from frames\n",
    "dry_run = False\n",
    "overwrite_existing = True\n",
    "\n",
    "for aws_id, video_dir in enumerate(tqdm(ordered_video_dirs)):\n",
    "    framerate = 3\n",
    "    input_glob = str(Path(images_dir) / video_dir) + \"/*.png\"\n",
    "        \n",
    "    #output_path = str(Path(images_dir) / video_dir.parent / video_dir.stem) + \".mp4\"\n",
    "    output_path = str(Path(\"/media/data/warp_data/marine_detection/imerit/\") / \"imerit_26102023_3fps_clips\" / video_dir.stem) + f\"_aws{aws_id}.mp4\"\n",
    "    \n",
    "    if not dry_run:\n",
    "        ffmpeg_cmd = [\"ffmpeg\", \"-hide_banner\", \n",
    "                                    \"-loglevel\", \"error\", \n",
    "                                    \"-framerate\", str(framerate), \n",
    "                                    \"-pattern_type\", \"glob\", \n",
    "                                    \"-i\", input_glob, \n",
    "                                    \"-c:v\", \"libx264\", \n",
    "                                    \"-pix_fmt\", \"yuv420p\", \n",
    "                                    output_path]\n",
    "        if overwrite_existing:\n",
    "            ffmpeg_cmd.append(\"-y\")\n",
    "        subprocess.call(ffmpeg_cmd)\n",
    "    else:\n",
    "        print(\"input: \", input_glob, \" || output: \", output_path)\n"
   ]
  }
 ],
 "metadata": {
  "kernelspec": {
   "display_name": "Python 3 (ipykernel)",
   "language": "python",
   "name": "python3"
  },
  "language_info": {
   "codemirror_mode": {
    "name": "ipython",
    "version": 3
   },
   "file_extension": ".py",
   "mimetype": "text/x-python",
   "name": "python",
   "nbconvert_exporter": "python",
   "pygments_lexer": "ipython3",
   "version": "3.11.5"
  }
 },
 "nbformat": 4,
 "nbformat_minor": 5
}
