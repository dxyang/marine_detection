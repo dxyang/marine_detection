{
 "cells": [
  {
   "cell_type": "markdown",
   "id": "8fcb9130-5c2d-419b-90fe-ae90f3e8ee51",
   "metadata": {},
   "source": [
    "## Create motion-based datasets from a Labelbox-style or COCO-style dataset\n",
    "\n",
    "Types of datasets:\n",
    "- Grids of crops of individual tracklets (grid-crops)\n",
    "- On last image of tracklets, plot the past trajectories (traj-line-plots)\n",
    "- On black background, plot all crops of the trajectory (traj-crop-plots)"
   ]
  },
  {
   "cell_type": "code",
   "execution_count": 10,
   "id": "fc0aa492-d775-4885-8a9c-6cb9ad2ce6b8",
   "metadata": {},
   "outputs": [],
   "source": [
    "# Global settings and datasets\n",
    "\n",
    "# Labelbox dataset:\n",
    "# labelbox_json = \"/media/data/warp_data/wrsi-datasets/Labelbox-Export-WHOI-RSI-USVI-Fish-detect-and-track - 6_11_2024.ndjson\"\n",
    "# image_root_dir = \"/media/data/warp_data/wrsi-datasets/whoi-rsi-fish-detection-yolo-dataset/images\"\n",
    "\n",
    "# COCO dataset:\n",
    "coco_json = \"/media/data/warp_data/marine_detection/imerit/whoi-rsi-fish-detection-datasets-22122023/coco.json\"\n",
    "image_root_dir = \"/media/data/warp_data/marine_detection/imerit/whoi-rsi-fish-detection-datasets-22122023/\"\n",
    "\n",
    "output_root_dir = \"/media/data/warp_data/wrsi-datasets/whoi-rsi-fish-motion-dataset\""
   ]
  },
  {
   "cell_type": "code",
   "execution_count": 2,
   "id": "287bc3a2-10e9-4eb4-b0e5-79332fd93659",
   "metadata": {},
   "outputs": [],
   "source": [
    "# Setup Labelbox\n",
    "import labelbox as lb\n",
    "import labelbox.types as lb_types\n",
    "import uuid\n",
    "import base64\n",
    "import requests\n",
    "\n",
    "LABELBOX_API_KEY = \"labelbox_api_key.txt\"\n",
    "ONTOLOGY_ID = \"clqo6bd8v0jc407ybc1r9ehlb\"\n",
    "PROJECT_ID = 'clqoh3ylw1o8s070hd6ch5z7o' # WHOI RSI USVI Fish Track and Detect\n",
    "DATASET_ID = \"clqh7v7qi001r07886j6aws7i\"\n",
    "\n",
    "# Setup client\n",
    "with open(LABELBOX_API_KEY,\"r\") as f:\n",
    "    API_KEY = f.read().strip()\n",
    "client = lb.Client(api_key=API_KEY)\n",
    "\n",
    "ontology = client.get_ontology(ONTOLOGY_ID)\n",
    "project = client.get_project(PROJECT_ID)\n",
    "dataset = client.get_dataset(DATASET_ID)"
   ]
  },
  {
   "cell_type": "code",
   "execution_count": 19,
   "id": "cdb7e7c2-8be1-4f86-85d9-f31aae669f07",
   "metadata": {},
   "outputs": [],
   "source": [
    "# Imports\n",
    "import cv2\n",
    "import os\n",
    "from tqdm import tqdm\n",
    "import glob\n",
    "from pathlib import Path\n",
    "import json\n",
    "import numpy as np\n",
    "\n",
    "# Local imports\n",
    "import labelbox_fish_utils as lbf"
   ]
  },
  {
   "cell_type": "code",
   "execution_count": 23,
   "id": "a7634ece-4a5c-4f36-9916-1f9c32ba2b95",
   "metadata": {},
   "outputs": [],
   "source": [
    "def crop_image(image_path, annotation, square_crop=True, resize=(244,244)):\n",
    "    img = cv2.imread(image_path)\n",
    "    x, y, w, h = annotation\n",
    "\n",
    "    if square_crop:\n",
    "        m = max(w,h)\n",
    "        cx = int(x + w/2)\n",
    "        cy = int(y + h/2)\n",
    "        crop = img[int(cy-h/2):int(cy+h/2), int(cx-w/2):int(cx+w/2), :]\n",
    "    else:\n",
    "        crop = img[y:y+h, x:x+w, :]\n",
    "\n",
    "    if resize:\n",
    "        crop = cv2.resize(crop, resize)\n",
    "    return crop\n",
    "\n",
    "def generate_motion_dataset_from_labelbox(json_path, image_root_dir, output_root_dir):\n",
    "    # Iterate through every tracklet\n",
    "    pass\n",
    "\n",
    "def generate_motion_dataset_from_coco(coco_json_path, image_root_dir, output_root_dir):\n",
    "\n",
    "    # Parse COCO json\n",
    "    with open(coco_json_path, \"r\") as f:\n",
    "        coco = json.load(f)\n",
    "    \n",
    "    # Iterate through every object\n",
    "    for object_track in tqdm(coco[\"object_tracks\"]):\n",
    "        bbox_id_list = object_track[\"bbox_id_list\"]\n",
    "\n",
    "        bboxes = []\n",
    "        image_paths = []\n",
    "        crops = []\n",
    "        \n",
    "        # Get bounding boxes and images\n",
    "        for bbox_id in bbox_id_list:\n",
    "            \n",
    "            # Get bbox\n",
    "            annotation = coco[\"annotations\"][bbox_id]\n",
    "            bbox = annotation[\"bbox\"]\n",
    "\n",
    "            # Get image\n",
    "            image_id = annotation[\"image_id\"]\n",
    "            image = coco[\"images\"][image_id]\n",
    "            image_path = os.path.join(image_root_dir, image[\"file_name\"])\n",
    "\n",
    "            # Crop image\n",
    "            crop = crop_image(image_path, bbox, resize=(244,244))\n",
    "\n",
    "            bboxes.append(bbox)\n",
    "            crops.append(crop)\n",
    "            image_paths.append(image_path)\n",
    "\n",
    "        # Make an image grid\n",
    "        img_grid = np.hstack(crops)\n",
    "\n",
    "        # Save stacked image\n",
    "        video_path = coco[\"video_sequences\"][object_track[\"video_seq_id\"]][\"file_name\"]\n",
    "        output_dir_path = os.path.join(output_root_dir, video_path)\n",
    "        \n",
    "        os.makedirs(output_dir_path, exist_ok=True)\n",
    "        \n",
    "        output_path = os.path.join(output_dir_path, f\"{object_track['id']}.png\")\n",
    "        cv2.imwrite(output_path, img_grid)"
   ]
  },
  {
   "cell_type": "code",
   "execution_count": 24,
   "id": "557f1422-6051-4d59-8b83-2c6778ed0724",
   "metadata": {},
   "outputs": [
    {
     "name": "stderr",
     "output_type": "stream",
     "text": [
      " 14%|██████████████                                                                                    | 2260/15802 [06:36<39:33,  5.70it/s]\n"
     ]
    },
    {
     "ename": "KeyboardInterrupt",
     "evalue": "",
     "output_type": "error",
     "traceback": [
      "\u001b[0;31m---------------------------------------------------------------------------\u001b[0m",
      "\u001b[0;31mKeyboardInterrupt\u001b[0m                         Traceback (most recent call last)",
      "Cell \u001b[0;32mIn[24], line 1\u001b[0m\n\u001b[0;32m----> 1\u001b[0m generate_motion_dataset_from_coco(coco_json, image_root_dir, output_root_dir)\n",
      "Cell \u001b[0;32mIn[23], line 48\u001b[0m, in \u001b[0;36mgenerate_motion_dataset_from_coco\u001b[0;34m(coco_json_path, image_root_dir, output_root_dir)\u001b[0m\n\u001b[1;32m     45\u001b[0m image_path \u001b[38;5;241m=\u001b[39m os\u001b[38;5;241m.\u001b[39mpath\u001b[38;5;241m.\u001b[39mjoin(image_root_dir, image[\u001b[38;5;124m\"\u001b[39m\u001b[38;5;124mfile_name\u001b[39m\u001b[38;5;124m\"\u001b[39m])\n\u001b[1;32m     47\u001b[0m \u001b[38;5;66;03m# Crop image\u001b[39;00m\n\u001b[0;32m---> 48\u001b[0m crop \u001b[38;5;241m=\u001b[39m crop_image(image_path, bbox, resize\u001b[38;5;241m=\u001b[39m(\u001b[38;5;241m244\u001b[39m,\u001b[38;5;241m244\u001b[39m))\n\u001b[1;32m     50\u001b[0m bboxes\u001b[38;5;241m.\u001b[39mappend(bbox)\n\u001b[1;32m     51\u001b[0m crops\u001b[38;5;241m.\u001b[39mappend(crop)\n",
      "Cell \u001b[0;32mIn[23], line 2\u001b[0m, in \u001b[0;36mcrop_image\u001b[0;34m(image_path, annotation, square_crop, resize)\u001b[0m\n\u001b[1;32m      1\u001b[0m \u001b[38;5;28;01mdef\u001b[39;00m \u001b[38;5;21mcrop_image\u001b[39m(image_path, annotation, square_crop\u001b[38;5;241m=\u001b[39m\u001b[38;5;28;01mTrue\u001b[39;00m, resize\u001b[38;5;241m=\u001b[39m(\u001b[38;5;241m244\u001b[39m,\u001b[38;5;241m244\u001b[39m)):\n\u001b[0;32m----> 2\u001b[0m     img \u001b[38;5;241m=\u001b[39m cv2\u001b[38;5;241m.\u001b[39mimread(image_path)\n\u001b[1;32m      3\u001b[0m     x, y, w, h \u001b[38;5;241m=\u001b[39m annotation\n\u001b[1;32m      5\u001b[0m     \u001b[38;5;28;01mif\u001b[39;00m square_crop:\n",
      "\u001b[0;31mKeyboardInterrupt\u001b[0m: "
     ]
    }
   ],
   "source": [
    "generate_motion_dataset_from_coco(coco_json, image_root_dir, output_root_dir)"
   ]
  }
 ],
 "metadata": {
  "kernelspec": {
   "display_name": "Python 3 (ipykernel)",
   "language": "python",
   "name": "python3"
  },
  "language_info": {
   "codemirror_mode": {
    "name": "ipython",
    "version": 3
   },
   "file_extension": ".py",
   "mimetype": "text/x-python",
   "name": "python",
   "nbconvert_exporter": "python",
   "pygments_lexer": "ipython3",
   "version": "3.11.5"
  }
 },
 "nbformat": 4,
 "nbformat_minor": 5
}
