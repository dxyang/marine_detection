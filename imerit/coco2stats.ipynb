{
 "cells": [
  {
   "cell_type": "code",
   "execution_count": 18,
   "id": "683c2ffc-7cfc-4af6-bab2-e86787a11a39",
   "metadata": {},
   "outputs": [],
   "source": [
    "import glob\n",
    "import jsonlines\n",
    "from pathlib import Path\n",
    "import natsort\n",
    "import json\n",
    "from tqdm import tqdm\n",
    "import pandas as pd"
   ]
  },
  {
   "cell_type": "code",
   "execution_count": 2,
   "id": "5a9ffc50-508c-4d11-8af1-8b02063c9ca0",
   "metadata": {},
   "outputs": [],
   "source": [
    "# Setup local directories\n",
    "dataset_root = Path(\"/media/data/warp_data/marine_detection/imerit/whoi-rsi-fish-detection-datasets-22122023\")\n",
    "images_dir = \"/media/data/warp_data/marine_detection/imerit/whoi-rsi-fish-detection-datasets-22122023\"\n",
    "manifest_path = \"/media/data/warp_data/marine_detection/imerit/whoi-rsi-fish-detection-datasets-22122023/28102023_manifest.json\"\n",
    "coco_json_path = dataset_root / \"coco.json\"\n",
    "\n",
    "# Parse manifest to get proper filenames and directories\n",
    "# We use the relative path and video name with aws_id as GLOBAL_KEYS for LABELBOX\n",
    "ordered_video_dirs = []\n",
    "ordered_global_keys = []\n",
    "ordered_videos_with_aws_ids = []\n",
    "labelbox_external_id_to_global_key = {}\n",
    "video_name_to_global_key = {}\n",
    "replace_root = \"s3://whoi-rsi-fish-detection/datasets/imerit_26102023_clips/\"\n",
    "with jsonlines.open(manifest_path) as f:\n",
    "    for video_num, video_json in enumerate(f):\n",
    "        video_path = Path(video_json['source-ref'].replace(replace_root, \"\"))\n",
    "        ordered_video_dirs.append(video_path.parent)\n",
    "        aws_id = video_num\n",
    "        \n",
    "        labelbox_name = video_path.parent.stem + f\"_aws{aws_id}.mp4\"\n",
    "        video_name = str(video_path.parent)\n",
    "        labelbox_global_key = str(video_path.parent) + f\"_aws{aws_id}.mp4\"\n",
    "        \n",
    "        ordered_videos_with_aws_ids.append(labelbox_name)\n",
    "        ordered_global_keys.append(labelbox_global_key)\n",
    "        labelbox_external_id_to_global_key[labelbox_name] = labelbox_global_key\n",
    "        video_name_to_global_key[video_name] = labelbox_global_key\n",
    "        \n",
    "# Parse COCO json\n",
    "with open(coco_json_path, \"r\") as f:\n",
    "    coco = json.load(f)"
   ]
  },
  {
   "cell_type": "code",
   "execution_count": 37,
   "id": "e1d25e82-4d20-487b-b8fc-4246d08111b3",
   "metadata": {},
   "outputs": [],
   "source": [
    "# Setup references\n",
    "filestats = {}\n",
    "for vid_num, vid_seq in enumerate(coco['video_sequences']):\n",
    "    id = vid_seq['id']\n",
    "    filename = vid_seq['file_name']\n",
    "    filestats[id] = {}\n",
    "    filestats[id]['filename'] = filename\n",
    "    filestats[id]['annot_count'] = 0\n",
    "    filestats[id]['fish_count'] = 0\n",
    "    filestats[id]['inferred_site'] = None\n",
    "\n",
    "    filename_lower = filename.lower()\n",
    "\n",
    "    # Attempt to infer location\n",
    "    if \"yaw\" in filename_lower or \"yz\" in filename_lower or \"ya\" in filename_lower:\n",
    "        filestats[id]['inferred_site'] = \"Yawzi\"\n",
    "    elif \"tek\" in filename_lower or \"tk\" in filename_lower:\n",
    "        filestats[id]['inferred_site'] = \"Tektite\"\n",
    "    elif \"joel\" in filename_lower or \"js\" in filename_lower:\n",
    "        filestats[id]['inferred_site'] = \"Joels Shoal\"\n",
    "    elif \"co\" in filename_lower:\n",
    "        filestats[id]['inferred_site'] = \"Cocoloba\"\n",
    "    elif \"boo\" in filename_lower or \"br\" in filename_lower:\n",
    "        filestats[id]['inferred_site'] = \"Booby Rock\"\n",
    "    else:\n",
    "        print(filename, \"has no inferred site\")\n",
    "\n",
    "# Gather statistics\n",
    "total_objs = 0\n",
    "total_annot = 0\n",
    "for obj_num, obj in enumerate(coco['object_tracks']):\n",
    "    filestats[int(obj['video_seq_id'])]['fish_count'] += 1\n",
    "    total_objs += 1\n",
    "\n",
    "    filestats[int(obj['video_seq_id'])]['annot_count'] += len(obj['bbox_id_list'])\n",
    "    total_annot += len(obj['bbox_id_list'])\n"
   ]
  },
  {
   "cell_type": "code",
   "execution_count": 36,
   "id": "c17ef6fc-d261-416e-bf7d-6d46e0cf8ace",
   "metadata": {},
   "outputs": [],
   "source": [
    "# Export to CSV format\n",
    "df = pd.DataFrame(columns=filestats[0].keys())\n",
    "\n",
    "for vid_num, vid_id in enumerate(filestats):\n",
    "    df_new_row = pd.DataFrame.from_records([filestats[vid_id]])\n",
    "    df = pd.concat([df, df_new_row])\n",
    "df.to_csv(\"imerit_stats.csv\")"
   ]
  }
 ],
 "metadata": {
  "kernelspec": {
   "display_name": "Python 3 (ipykernel)",
   "language": "python",
   "name": "python3"
  },
  "language_info": {
   "codemirror_mode": {
    "name": "ipython",
    "version": 3
   },
   "file_extension": ".py",
   "mimetype": "text/x-python",
   "name": "python",
   "nbconvert_exporter": "python",
   "pygments_lexer": "ipython3",
   "version": "3.11.5"
  }
 },
 "nbformat": 4,
 "nbformat_minor": 5
}
