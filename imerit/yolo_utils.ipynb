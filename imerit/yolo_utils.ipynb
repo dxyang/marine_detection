{
 "cells": [
  {
   "cell_type": "code",
   "execution_count": null,
   "id": "6853ad63-04cf-4ecf-a1af-ee7c156b2e5e",
   "metadata": {},
   "outputs": [],
   "source": [
    "!pip install opencv-python\n",
    "\n",
    "import cv2\n",
    "import os\n",
    "from tqdm import tqdm\n",
    "import glob\n",
    "from pathlib import Path\n",
    "\n",
    "def parse_annotation(annotation_file):\n",
    "    with open(annotation_file, 'r') as file:\n",
    "        lines = file.readlines()\n",
    "    annotations = []\n",
    "    for line in lines:\n",
    "        parts = line.strip().split()\n",
    "        class_id = int(parts[0])\n",
    "        x_center = float(parts[1])\n",
    "        y_center = float(parts[2])\n",
    "        width = float(parts[3])\n",
    "        height = float(parts[4])\n",
    "        annotations.append((class_id, x_center, y_center, width, height))\n",
    "    return annotations\n",
    "\n",
    "def yolo2cv_bbox(yolo_bbox, width, height):\n",
    "    class_id, x_center, y_center, box_width, box_height = yolo_bbox\n",
    "    x_min = int((x_center - box_width / 2) * width)\n",
    "    x_max = int((x_center + box_width / 2) * width)\n",
    "    y_min = int((y_center - box_height / 2) * height)\n",
    "    y_max = int((y_center + box_height / 2) * height)\n",
    "    return (x_min, x_max, y_min, y_max)\n",
    "\n",
    "def annotate_image(image_dir, image_rel_path, annotation, output_dir):\n",
    "    image = cv2.imread(os.path.join(image_dir, image_rel_path))\n",
    "    val_image = image.copy()\n",
    "    height, width, _ = image.shape\n",
    "    \n",
    "    for i, annot in enumerate(annotation):\n",
    "        x_min, x_max, y_min, y_max = yolo2cv_bbox(annot, width, height)\n",
    "        val_image = cv2.rectangle(val_image, (x_min, y_min), (x_max, y_max), (0,0,255), 2)\n",
    "\n",
    "    output_path = os.path.join(output_dir, image_rel_path)\n",
    "    os.makedirs(Path(output_path).parent, exist_ok=True)\n",
    "    cv2.imwrite(output_path, val_image)\n",
    "\n",
    "def annotate_yolo_dataset(image_dir, annotation_dir, output_dir, img_type=\".png\"):\n",
    "    \"\"\"\n",
    "    Generates images from YOLO dataset showing annotations, for groundtruth validation\n",
    "    \"\"\"\n",
    "    if not os.path.exists(output_dir):\n",
    "        os.makedirs(output_dir)\n",
    "\n",
    "    img_paths = glob.glob(os.path.join(image_dir,f\"**/*{img_type}\"), recursive=True)\n",
    "\n",
    "    i = 0\n",
    "    for image_file in tqdm(img_paths):\n",
    "        image_rel_path = os.path.relpath(image_file, image_dir)\n",
    "        annotation_file = os.path.join(annotation_dir, os.path.splitext(image_rel_path)[0] + '.txt')\n",
    "\n",
    "        if os.path.exists(annotation_file):\n",
    "            annotations = parse_annotation(annotation_file)\n",
    "            annotate_image(image_dir, image_rel_path, annotations, output_dir)\n"
   ]
  },
  {
   "cell_type": "code",
   "execution_count": null,
   "id": "2e4f7f8f-28ef-446a-b5a6-6903dd5aff53",
   "metadata": {},
   "outputs": [],
   "source": [
    "image_directory = '/srv/warplab/shared/datasets/WHOI_RS_Fish_Detector/whoi-rsi-fish-detection-yolo-dataset/images'\n",
    "annotation_directory = '/srv/warplab/shared/datasets/WHOI_RS_Fish_Detector/whoi-rsi-fish-detection-yolo-dataset/labels'\n",
    "output_directory = '/srv/warplab/shared/datasets/WHOI_RS_Fish_Detector/whoi-rsi-fish-detection-yolo-dataset-validation-images/'\n",
    "\n",
    "annotate_yolo_dataset(image_directory, annotation_directory, output_directory)\n",
    "print(\"done\")"
   ]
  }
 ],
 "metadata": {
  "kernelspec": {
   "display_name": "Python 3 (ipykernel)",
   "language": "python",
   "name": "python3"
  },
  "language_info": {
   "codemirror_mode": {
    "name": "ipython",
    "version": 3
   },
   "file_extension": ".py",
   "mimetype": "text/x-python",
   "name": "python",
   "nbconvert_exporter": "python",
   "pygments_lexer": "ipython3",
   "version": "3.11.5"
  }
 },
 "nbformat": 4,
 "nbformat_minor": 5
}
