{
 "cells": [
  {
   "cell_type": "code",
   "execution_count": 10,
   "id": "4074d2c4-131b-4395-8316-595a3287382f",
   "metadata": {},
   "outputs": [
    {
     "name": "stdout",
     "output_type": "stream",
     "text": [
      "Requirement already satisfied: labelbox[data] in /home/veevee/miniconda3/envs/aws_labelbox/lib/python3.12/site-packages (3.72.2)\n",
      "Requirement already satisfied: geojson>=3.1.0 in /home/veevee/miniconda3/envs/aws_labelbox/lib/python3.12/site-packages (from labelbox[data]) (3.1.0)\n",
      "Requirement already satisfied: google-api-core>=1.22.1 in /home/veevee/miniconda3/envs/aws_labelbox/lib/python3.12/site-packages (from labelbox[data]) (2.19.0)\n",
      "Requirement already satisfied: pydantic>=1.8 in /home/veevee/miniconda3/envs/aws_labelbox/lib/python3.12/site-packages (from labelbox[data]) (2.7.4)\n",
      "Requirement already satisfied: python-dateutil<2.9.0,>=2.8.2 in /home/veevee/miniconda3/envs/aws_labelbox/lib/python3.12/site-packages (from labelbox[data]) (2.8.2)\n",
      "Requirement already satisfied: requests>=2.22.0 in /home/veevee/miniconda3/envs/aws_labelbox/lib/python3.12/site-packages (from labelbox[data]) (2.32.3)\n",
      "Requirement already satisfied: strenum>=0.4.15 in /home/veevee/miniconda3/envs/aws_labelbox/lib/python3.12/site-packages (from labelbox[data]) (0.4.15)\n",
      "Requirement already satisfied: tqdm>=4.66.2 in /home/veevee/miniconda3/envs/aws_labelbox/lib/python3.12/site-packages (from labelbox[data]) (4.66.4)\n",
      "Requirement already satisfied: imagesize>=1.4.1 in /home/veevee/miniconda3/envs/aws_labelbox/lib/python3.12/site-packages (from labelbox[data]) (1.4.1)\n",
      "Requirement already satisfied: numpy>=1.24.4 in /home/veevee/miniconda3/envs/aws_labelbox/lib/python3.12/site-packages (from labelbox[data]) (1.26.4)\n",
      "Requirement already satisfied: opencv-python-headless>=4.9.0.80 in /home/veevee/miniconda3/envs/aws_labelbox/lib/python3.12/site-packages (from labelbox[data]) (4.10.0.82)\n",
      "Requirement already satisfied: pillow>=10.2.0 in /home/veevee/miniconda3/envs/aws_labelbox/lib/python3.12/site-packages (from labelbox[data]) (10.3.0)\n",
      "Requirement already satisfied: pygeotile>=1.0.6 in /home/veevee/miniconda3/envs/aws_labelbox/lib/python3.12/site-packages (from labelbox[data]) (1.0.6)\n",
      "Requirement already satisfied: pyproj>=3.5.0 in /home/veevee/miniconda3/envs/aws_labelbox/lib/python3.12/site-packages (from labelbox[data]) (3.6.1)\n",
      "Requirement already satisfied: shapely>=2.0.3 in /home/veevee/miniconda3/envs/aws_labelbox/lib/python3.12/site-packages (from labelbox[data]) (2.0.4)\n",
      "Requirement already satisfied: typeguard>=4.1.5 in /home/veevee/miniconda3/envs/aws_labelbox/lib/python3.12/site-packages (from labelbox[data]) (4.3.0)\n",
      "Requirement already satisfied: typing-extensions>=4.10.0 in /home/veevee/miniconda3/envs/aws_labelbox/lib/python3.12/site-packages (from labelbox[data]) (4.12.2)\n",
      "Requirement already satisfied: googleapis-common-protos<2.0.dev0,>=1.56.2 in /home/veevee/miniconda3/envs/aws_labelbox/lib/python3.12/site-packages (from google-api-core>=1.22.1->labelbox[data]) (1.63.1)\n",
      "Requirement already satisfied: protobuf!=3.20.0,!=3.20.1,!=4.21.0,!=4.21.1,!=4.21.2,!=4.21.3,!=4.21.4,!=4.21.5,<5.0.0.dev0,>=3.19.5 in /home/veevee/miniconda3/envs/aws_labelbox/lib/python3.12/site-packages (from google-api-core>=1.22.1->labelbox[data]) (4.25.3)\n",
      "Requirement already satisfied: proto-plus<2.0.0dev,>=1.22.3 in /home/veevee/miniconda3/envs/aws_labelbox/lib/python3.12/site-packages (from google-api-core>=1.22.1->labelbox[data]) (1.23.0)\n",
      "Requirement already satisfied: google-auth<3.0.dev0,>=2.14.1 in /home/veevee/miniconda3/envs/aws_labelbox/lib/python3.12/site-packages (from google-api-core>=1.22.1->labelbox[data]) (2.30.0)\n",
      "Requirement already satisfied: annotated-types>=0.4.0 in /home/veevee/miniconda3/envs/aws_labelbox/lib/python3.12/site-packages (from pydantic>=1.8->labelbox[data]) (0.7.0)\n",
      "Requirement already satisfied: pydantic-core==2.18.4 in /home/veevee/miniconda3/envs/aws_labelbox/lib/python3.12/site-packages (from pydantic>=1.8->labelbox[data]) (2.18.4)\n",
      "Requirement already satisfied: certifi in /home/veevee/miniconda3/envs/aws_labelbox/lib/python3.12/site-packages (from pyproj>=3.5.0->labelbox[data]) (2024.6.2)\n",
      "Requirement already satisfied: six>=1.5 in /home/veevee/miniconda3/envs/aws_labelbox/lib/python3.12/site-packages (from python-dateutil<2.9.0,>=2.8.2->labelbox[data]) (1.16.0)\n",
      "Requirement already satisfied: charset-normalizer<4,>=2 in /home/veevee/miniconda3/envs/aws_labelbox/lib/python3.12/site-packages (from requests>=2.22.0->labelbox[data]) (3.3.2)\n",
      "Requirement already satisfied: idna<4,>=2.5 in /home/veevee/miniconda3/envs/aws_labelbox/lib/python3.12/site-packages (from requests>=2.22.0->labelbox[data]) (3.7)\n",
      "Requirement already satisfied: urllib3<3,>=1.21.1 in /home/veevee/miniconda3/envs/aws_labelbox/lib/python3.12/site-packages (from requests>=2.22.0->labelbox[data]) (2.2.1)\n",
      "Requirement already satisfied: cachetools<6.0,>=2.0.0 in /home/veevee/miniconda3/envs/aws_labelbox/lib/python3.12/site-packages (from google-auth<3.0.dev0,>=2.14.1->google-api-core>=1.22.1->labelbox[data]) (5.3.3)\n",
      "Requirement already satisfied: pyasn1-modules>=0.2.1 in /home/veevee/miniconda3/envs/aws_labelbox/lib/python3.12/site-packages (from google-auth<3.0.dev0,>=2.14.1->google-api-core>=1.22.1->labelbox[data]) (0.4.0)\n",
      "Requirement already satisfied: rsa<5,>=3.1.4 in /home/veevee/miniconda3/envs/aws_labelbox/lib/python3.12/site-packages (from google-auth<3.0.dev0,>=2.14.1->google-api-core>=1.22.1->labelbox[data]) (4.9)\n",
      "Requirement already satisfied: pyasn1<0.7.0,>=0.4.6 in /home/veevee/miniconda3/envs/aws_labelbox/lib/python3.12/site-packages (from pyasn1-modules>=0.2.1->google-auth<3.0.dev0,>=2.14.1->google-api-core>=1.22.1->labelbox[data]) (0.6.0)\n",
      "Collecting jsonlines\n",
      "  Downloading jsonlines-4.0.0-py3-none-any.whl.metadata (1.6 kB)\n",
      "Requirement already satisfied: attrs>=19.2.0 in /home/veevee/miniconda3/envs/aws_labelbox/lib/python3.12/site-packages (from jsonlines) (23.2.0)\n",
      "Downloading jsonlines-4.0.0-py3-none-any.whl (8.7 kB)\n",
      "Installing collected packages: jsonlines\n",
      "Successfully installed jsonlines-4.0.0\n"
     ]
    }
   ],
   "source": [
    "!pip install labelbox[data]\n",
    "!pip install jsonlines"
   ]
  },
  {
   "cell_type": "code",
   "execution_count": 7,
   "id": "410b3151-72f5-49e7-864f-fa557eba4615",
   "metadata": {},
   "outputs": [
    {
     "name": "stdout",
     "output_type": "stream",
     "text": [
      "===ONTOLOGY DETAILS===\n",
      "Name:  WHOI-RSI-USVI-Fish\n",
      "\n",
      "===PROJECT DETAILS===\n",
      "Name:  WHOI-RSI-USVI-Fish-detect-and-track\n",
      "\n",
      "===DATASET DETAILS===\n",
      "Name:  imerit-26102023-3fps-clips\n"
     ]
    }
   ],
   "source": [
    "import labelbox as lb\n",
    "import labelbox.types as lb_types\n",
    "import uuid\n",
    "import base64\n",
    "import requests\n",
    "\n",
    "# Setup client\n",
    "with open(\"labelbox_api_key.txt\",\"r\") as f:\n",
    "    API_KEY = f.read().strip()\n",
    "client = lb.Client(api_key=API_KEY)\n",
    "\n",
    "# Get ontology\n",
    "print(\"===ONTOLOGY DETAILS===\")\n",
    "ontology = client.get_ontology(\"clqo6bd8v0jc407ybc1r9ehlb\")\n",
    "print(\"Name: \", ontology.name)\n",
    "tools = ontology.tools()\n",
    "\n",
    "# for tool in tools:\n",
    "#   print(tool)\n",
    "\n",
    "# Get project\n",
    "print(\"\\n===PROJECT DETAILS===\")\n",
    "PROJECT_ID = 'clqoh3ylw1o8s070hd6ch5z7o' # WHOI RSI USVI Fish\n",
    "# PROJECT_ID = 'clqo7auln0mpo07wphorp0t2e' # Test WHOI RSI USVI Fish\n",
    "project = client.get_project(PROJECT_ID)\n",
    "print(\"Name: \", project.name)\n",
    "\n",
    "# Get dataset\n",
    "DATASET_ID = \"clqh7v7qi001r07886j6aws7i\"\n",
    "dataset = client.get_dataset(DATASET_ID)\n",
    "print(\"\\n===DATASET DETAILS===\")\n",
    "print(\"Name: \", dataset.name)\n",
    "\n",
    "# Dataset parameters\n",
    "species_level = True # Extract species-level data (otherwise single-class \"fish\"), use with data_rows_done_only\n",
    "data_rows_done_only = True # Only utilize data rows that have undergone species review"
   ]
  },
  {
   "cell_type": "code",
   "execution_count": 18,
   "id": "075b028c-34d6-4f40-b9e8-f7ddfc2cfe59",
   "metadata": {},
   "outputs": [
    {
     "name": "stdout",
     "output_type": "stream",
     "text": [
      "Classes:  104\n",
      "{'fish': {'label': 'Fish', 'value': 'fish'}, 'absa_sergeant_major': Option(value='absa_sergeant_major', label='ABSA (Sergeant Major)', schema_id='clr6rzlg40jca07yvbsh21gix', feature_schema_id='clr6rzlg40jc907yvaa6c74uy', options=[]), 'acan_unknown': Option(value='acan_unknown', label='ACAN_UNKNOWN (Unknown Tang (Acanthuridae))', schema_id='clr6rzlg40jcc07yvdvimbb07', feature_schema_id='clr6rzlg40jcb07yv2wiu7we2', options=[]), 'acch_doctorfish': Option(value='acch_doctorfish', label='ACCH (Doctorfish)', schema_id='clr6rzlg40jce07yvc1bf39h4', feature_schema_id='clr6rzlg40jcd07yv93yo4448', options=[]), 'acco_blue_tang': Option(value='acco_blue_tang', label='ACCO (Blue Tang)', schema_id='clr6rzlg40jcg07yvhpdl0y1h', feature_schema_id='clr6rzlg40jcf07yvek4v76ng', options=[]), 'acpo_honeycomb_cowfish': Option(value='acpo_honeycomb_cowfish', label='ACPO (Honeycomb Cowfish)', schema_id='clr6rzlg40jci07yv74smh79v', feature_schema_id='clr6rzlg40jch07yv8mhz9rsb', options=[]), 'acqu_scrawled_cowfish': Option(value='acqu_scrawled_cowfish', label='ACQU (Scrawled Cowfish)', schema_id='clr6rzlg40jck07yv6bcm1l91', feature_schema_id='clr6rzlg40jcj07yvdfbuegzs', options=[]), 'actr_surgeonfish': Option(value='actr_surgeonfish', label='ACTR (Surgeonfish)', schema_id='clr6rzlg40jcm07yv6mib1t7m', feature_schema_id='clr6rzlg40jcl07yv376n2op7', options=[]), 'alsc_scrawled_filefish': Option(value='alsc_scrawled_filefish', label='ALSC (Scrawled Filefish)', schema_id='clr6rzlg40jco07yv2md62gx8', feature_schema_id='clr6rzlg40jcn07yvfbfv4eqt', options=[]), 'anvi_porkfish': Option(value='anvi_porkfish', label='ANVI (Porkfish)', schema_id='clr6rzlg40jcq07yvakqygx43', feature_schema_id='clr6rzlg40jcp07yvbl3kfjbu', options=[]), 'aulo_unknown': Option(value='aulo_unknown', label='AULO_UNKNOWN (Unknown Trumpetfish (Aulostomidae))', schema_id='clr6rzlg40jcs07yv1bc25wzw', feature_schema_id='clr6rzlg40jcr07yvcr9d62x4', options=[]), 'ausp_generic_trumpetfish': Option(value='ausp_generic_trumpetfish', label='AUSP (Generic Trumpetfish)', schema_id='clr6rzlg40jcu07yvezfha5oj', feature_schema_id='clr6rzlg40jct07yv4d396pgm', options=[]), 'azcy_blue_chromis': Option(value='azcy_blue_chromis', label='AZCY (Blue Chromis)', schema_id='clr6rzlg40jcw07yv5yga37fl', feature_schema_id='clr6rzlg40jcv07yv5aoibmf5', options=[]), 'azmu_brown_chromis': Option(value='azmu_brown_chromis', label='AZMU (Brown Chromis)', schema_id='clr6rzlg40jcy07yva6sq7nhr', feature_schema_id='clr6rzlg40jcx07yvfvj957yk', options=[]), 'bach_smallmouth_grunt': Option(value='bach_smallmouth_grunt', label='BACH (Smallmouth Grunt)', schema_id='clr6rzlg40jd007yv9td73qi3', feature_schema_id='clr6rzlg40jcz07yv3afj6q34', options=[]), 'boru_spanish_hogfish': Option(value='boru_spanish_hogfish', label='BORU (Spanish Hogfish)', schema_id='clr6rzlg40jd207yv26v6h9v7', feature_schema_id='clr6rzlg40jd107yv9y238ixm', options=[]), 'cama_whitespotted_filefish': Option(value='cama_whitespotted_filefish', label='CAMA (Whitespotted Filefish)', schema_id='clr6rzlg40jd407yv6fho5yw1', feature_schema_id='clr6rzlg40jd307yvd3n87513', options=[]), 'capu_orangespotted_filefish': Option(value='capu_orangespotted_filefish', label='CAPU (Orangespotted filefish)', schema_id='clr6rzlg40jd607yvbjnog01v', feature_schema_id='clr6rzlg40jd507yvcpeq8blf', options=[]), 'cara_unknown': Option(value='cara_unknown', label='CARA_UNKNOWN (Unknown Jack (Carangidae))', schema_id='clr6rzlg40jd807yv3yibhv2f', feature_schema_id='clr6rzlg40jd707yvchj441hz', options=[]), 'carb_yellow_jack': Option(value='carb_yellow_jack', label='CARB (Yellow Jack)', schema_id='clr6rzlg40jda07yvb66ffqpr', feature_schema_id='clr6rzlg40jd907yv50z4e73q', options=[]), 'carl_horse_eye_jack': Option(value='carl_horse_eye_jack', label='CARL (Horse-eye Jack)', schema_id='clr6rzlg40jdc07yv14gyh0p7', feature_schema_id='clr6rzlg40jdb07yvbch38i47', options=[]), 'caro_sharpnose_puffer': Option(value='caro_sharpnose_puffer', label='CARO (Sharpnose Puffer)', schema_id='clr6rzlg40jde07yvcbks4q2a', feature_schema_id='clr6rzlg40jdd07yvav3j7yzs', options=[]), 'caru_bar_jack': Option(value='caru_bar_jack', label='CARU (Bar Jack)', schema_id='clr6rzlg40jdg07yv28i2h16w', feature_schema_id='clr6rzlg40jdf07yv7swcg2d2', options=[]), 'cecr_graysby': Option(value='cecr_graysby', label='CECR (Graysby)', schema_id='clr6rzlg40jdi07yv70tv8qyi', feature_schema_id='clr6rzlg40jdh07yv0ktc0v2r', options=[]), 'cefu_coney': Option(value='cefu_coney', label='CEFU (Coney)', schema_id='clr6rzlg40jdk07yv85px123i', feature_schema_id='clr6rzlg40jdj07yv68941dvi', options=[]), 'chae_unknown': Option(value='chae_unknown', label='CHAE_UNKNOWN (Unknown Butterflyfish (Chaetodontidae))', schema_id='clr6rzlg40jdm07yv8lyd75ek', feature_schema_id='clr6rzlg40jdl07yv9e0gbbjn', options=[]), 'chca_four_eye_butterflyfish': Option(value='chca_four_eye_butterflyfish', label='CHCA (Four-eye Butterflyfish)', schema_id='clr6rzlg40jdo07yvcr7wfvbb', feature_schema_id='clr6rzlg40jdn07yv93wd73du', options=[]), 'choc_spotfin_butterflyfish': Option(value='choc_spotfin_butterflyfish', label='CHOC (Spotfin Butterflyfish)', schema_id='clr6rzlg50jdq07yvf46j4q21', feature_schema_id='clr6rzlg50jdp07yv9tvg1qow', options=[]), 'chst_banded_butterflyfish': Option(value='chst_banded_butterflyfish', label='CHST (Banded Butterflyfish)', schema_id='clr6rzlg50jds07yv3hi5d23n', feature_schema_id='clr6rzlg50jdr07yvfhhob5ol', options=[]), 'clpa_creole_wrasse': Option(value='clpa_creole_wrasse', label='CLPA (Creole Wrasse)', schema_id='clr6rzlg50jdu07yvfz7g42eu', feature_schema_id='clr6rzlg50jdt07yvhea5el47', options=[]), 'daam_southern_stingray': Option(value='daam_southern_stingray', label='DAAM (Southern Stingray)', schema_id='clr6rzlg50jdw07yv4ile1l6h', feature_schema_id='clr6rzlg50jdv07yv2dm7460u', options=[]), 'dasy_unknown': Option(value='dasy_unknown', label='DASY_UNKNOWN (Unknown Whiptail Stingrays (Dasyatidae))', schema_id='clr6rzlg50jdy07yv08p1affe', feature_schema_id='clr6rzlg50jdx07yv4tse0hhw', options=[]), 'dioh_porcupinefish': Option(value='dioh_porcupinefish', label='DIOH (Porcupinefish)', schema_id='clr6rzlg50je007yvey2fbh17', feature_schema_id='clr6rzlg50jdz07yva8rh0na8', options=[]), 'doid_unknown': Option(value='doid_unknown', label='DOID_UNKNOWN (Unknown Porcupinefish (Diodontidate))', schema_id='clr6rzlg50je207yvfp4shkwc', feature_schema_id='clr6rzlg50je107yvghb35fpn', options=[]), 'eche_unknown': Option(value='eche_unknown', label='ECHE_UNKNOWN (Unknown Remora (Echeneidae))', schema_id='clr6rzlg50je407yvaobzgh53', feature_schema_id='clr6rzlg50je307yv4os5a3pg', options=[]), 'epad_rock_hind': Option(value='epad_rock_hind', label='EPAD (Rock Hind)', schema_id='clr6rzlg50je607yvgawu82dk', feature_schema_id='clr6rzlg50je507yv77e9c2sc', options=[]), 'epgu_red_hind': Option(value='epgu_red_hind', label='EPGU (Red Hind)', schema_id='clr6rzlg50je807yv9l96corp', feature_schema_id='clr6rzlg50je707yv0xmj42re', options=[]), 'epin_unknown': Option(value='epin_unknown', label='EPIN_UNKNOWN (Unknown Grouper (Epinephediidae))', schema_id='clr6rzlg50jea07yv3lla298o', feature_schema_id='clr6rzlg50je907yv77yv9uqd', options=[]), 'epst_nassau_grouper': Option(value='epst_nassau_grouper', label='EPST (Nassau Grouper)', schema_id='clr6rzlg50jec07yvcgqogg9i', feature_schema_id='clr6rzlg50jeb07yvgpor24hr', options=[]), 'eqpu_spotted_drum': Option(value='eqpu_spotted_drum', label='EQPU (Spotted Drum)', schema_id='clr6rzlg50jee07yvaeaydf2t', feature_schema_id='clr6rzlg50jed07yvbv0m0s9z', options=[]), 'gici_nurse_shark': Option(value='gici_nurse_shark', label='GICI (Nurse Shark)', schema_id='clr6rzlg50jeg07yvcuapg383', feature_schema_id='clr6rzlg50jef07yv3tyfd9r1', options=[]), 'ging_unknown': Option(value='ging_unknown', label='GING_UNKNOWN (Unknown Nurse Shark (Ginglymostomatidae))', schema_id='clr6rzlg50jei07yvcarr2wki', feature_schema_id='clr6rzlg50jeh07yv80qscm21', options=[]), 'gral_fairy_basslet': Option(value='gral_fairy_basslet', label='GRAL (Fairy basslet)', schema_id='clr6rzlg50jek07yv76mvggsw', feature_schema_id='clr6rzlg50jej07yv60jzah30', options=[]), 'gram_unknown': Option(value='gram_unknown', label='GRAM_UNKNOWN (Unknown Basslet (Grammatidae))', schema_id='clr6rzlg50jem07yv1awd0wbx', feature_schema_id='clr6rzlg50jel07yvb0b39dpg', options=[]), 'haem_unknown': Option(value='haem_unknown', label='HAEM_UNKNOWN (Unknown Grunt (Haemulidae))', schema_id='clr6rzlg60jeo07yv70772m3w', feature_schema_id='clr6rzlg60jen07yvh8cnahtu', options=[]), 'hafl_french_grunt': Option(value='hafl_french_grunt', label='HAFL (French Grunt)', schema_id='clr6rzlg60jeq07yv3gx79llx', feature_schema_id='clr6rzlg60jep07yvh7s29qdt', options=[]), 'haga_yellowheaded_wrasse': Option(value='haga_yellowheaded_wrasse', label='HAGA (Yellowheaded Wrasse)', schema_id='clr6rzlg60jes07yv4ied5jae', feature_schema_id='clr6rzlg60jer07yv7k524eim', options=[]), 'hali_general_wrasses': Option(value='hali_general_wrasses', label='HALI (General Wrasses)', schema_id='clr6rzlg60jeu07yv1zq1a0cc', feature_schema_id='clr6rzlg60jet07yv6j0rcimc', options=[]), 'hara_puddingwife': Option(value='hara_puddingwife', label='HARA (Puddingwife)', schema_id='clr6rzlg60jew07yvayf6bhob', feature_schema_id='clr6rzlg60jev07yv1kto4ku4', options=[]), 'hasc_bluestriped_grunt': Option(value='hasc_bluestriped_grunt', label='HASC (Bluestriped Grunt)', schema_id='clr6rzlg60jey07yve5yl6ez1', feature_schema_id='clr6rzlg60jex07yv3dyebqdw', options=[]), 'hasp_general_grunts': Option(value='hasp_general_grunts', label='HASP (General Grunts)', schema_id='clr6rzlg60jf007yv1mru6hmg', feature_schema_id='clr6rzlg60jez07yvdghh8gdw', options=[]), 'hoca_queen_angel': Option(value='hoca_queen_angel', label='HOCA (Queen Angel)', schema_id='clr6rzlg60jf207yvejqa9mwt', feature_schema_id='clr6rzlg60jf107yva8ja6ulo', options=[]), 'holo_unknown': Option(value='holo_unknown', label='HOLO_UNKNOWN (Unknown Squirrelfish (Holocentridae))', schema_id='clr6rzlg60jf407yv1v8n2fda', feature_schema_id='clr6rzlg60jf307yv5zpzac4v', options=[]), 'hosp_general_squirrelfish': Option(value='hosp_general_squirrelfish', label='HOSP (General Squirrelfish)', schema_id='clr6rzlg60jf607yv312t6p6i', feature_schema_id='clr6rzlg60jf507yvfwz10fby', options=[]), 'hotr_rock_beauty_angel': Option(value='hotr_rock_beauty_angel', label='HOTR (Rock Beauty Angel)', schema_id='clr6rzlg60jf807yvchav13eo', feature_schema_id='clr6rzlg60jf707yv3ir40gak', options=[]), 'hyni_black_hamlet': Option(value='hyni_black_hamlet', label='HYNI (Black Hamlet)', schema_id='clr6rzlg60jfa07yv8z93e7m6', feature_schema_id='clr6rzlg60jf907yv4e1xggsv', options=[]), 'hypu_barred_hamlet': Option(value='hypu_barred_hamlet', label='HYPU (Barred Hamlet)', schema_id='clr6rzlg60jfc07yv5ou71dr3', feature_schema_id='clr6rzlg60jfb07yv7x397ida', options=[]), 'labi_spotted_trunkfish': Option(value='labi_spotted_trunkfish', label='LABI (Spotted Trunkfish)', schema_id='clr6rzlg60jfe07yv14k07hmv', feature_schema_id='clr6rzlg60jfd07yv044vgzb7', options=[]), 'labr_unknown': Option(value='labr_unknown', label='LABR_UNKNOWN (Unknown Wrasse (Labridae))', schema_id='clr6rzlg60jfg07yvhcv0ht55', feature_schema_id='clr6rzlg60jff07yvaksj33wu', options=[]), 'lama_hogfish': Option(value='lama_hogfish', label='LAMA (Hogfish)', schema_id='clr6rzlg60jfi07yv4isx7asm', feature_schema_id='clr6rzlg60jfh07yv6lxbfc0u', options=[]), 'latr_smooth_trunkfish': Option(value='latr_smooth_trunkfish', label='LATR (Smooth Trunkfish)', schema_id='clr6rzlg60jfk07yv7yp64wn4', feature_schema_id='clr6rzlg60jfj07yv4kbd6gx2', options=[]), 'luap_schoolmaster_snapper': Option(value='luap_schoolmaster_snapper', label='LUAP (Schoolmaster Snapper)', schema_id='clr6rzlg60jfm07yv2nqq3w28', feature_schema_id='clr6rzlg60jfl07yv0kec3q6y', options=[]), 'lugr_gray_snapper': Option(value='lugr_gray_snapper', label='LUGR (Gray Snapper)', schema_id='clr6rzlg60jfo07yv3aencvhn', feature_schema_id='clr6rzlg60jfn07yvdiu70plp', options=[]), 'lutj_unknown': Option(value='lutj_unknown', label='LUTJ_UNKNOWN (Unknown Snapper (Lutjanidae))', schema_id='clr6rzlg60jfq07yv8luw6zro', feature_schema_id='clr6rzlg60jfp07yv9wihdo0l', options=[]), 'micr_yellowtail_damselfish': Option(value='micr_yellowtail_damselfish', label='MICR (Yellowtail Damselfish)', schema_id='clr6rzlg60jfs07yv05i85gt5', feature_schema_id='clr6rzlg60jfr07yvbcotbj6r', options=[]), 'mona_unknown': Option(value='mona_unknown', label='MONA_UNKNOWN (Unknown Filefish (Monacanthidae))', schema_id='clr6rzlg60jfu07yvhvl0d4aa', feature_schema_id='clr6rzlg60jft07yvav7u8uu1', options=[]), 'mull_unknown_unknown_goatfish': Option(value='mull_unknown_unknown_goatfish', label='MULL_UNKNOWN (Unknown Goatfish)', schema_id='clrkpudnd01je0709dof08b5x', feature_schema_id='clrkpudnd01jd0709b2eegbob', options=[]), 'muma_yellow_goatfish': Option(value='muma_yellow_goatfish', label='MUMA (Yellow Goatfish)', schema_id='clrkpudnd01jg0709hicpgiqj', feature_schema_id='clrkpudnd01jf07094gzkh974', options=[]), 'myja_blackbar_soldierfish': Option(value='myja_blackbar_soldierfish', label='MYJA (Blackbar Soldierfish)', schema_id='clr6rzlg60jfw07yv5dfx8piw', feature_schema_id='clr6rzlg60jfv07yv6ax90ytu', options=[]), 'occh_yellowtail_snapper': Option(value='occh_yellowtail_snapper', label='OCCH (Yellowtail Snapper)', schema_id='clr6rzlg60jfy07yvdtej5s25', feature_schema_id='clr6rzlg60jfx07yv8jqnahvc', options=[]), 'opau_yellowheaded_jawfish': Option(value='opau_yellowheaded_jawfish', label='OPAU (Yellowheaded Jawfish)', schema_id='clr6rzlg60jg007yvfcuqgqjq', feature_schema_id='clr6rzlg60jfz07yvfuxl1ziv', options=[]), 'opis_unknown': Option(value='opis_unknown', label='OPIS_UNKNOWN (Unknown Jawfish (Opistognathidae))', schema_id='clr6rzlg60jg207yvfo2k0jt6', feature_schema_id='clr6rzlg60jg107yvhl0f06oc', options=[]), 'ostr_unknown': Option(value='ostr_unknown', label='OSTR_UNKNOWN (Unknown Boxfish (Ostraciidae))', schema_id='clr6rzlg70jg407yvacm4dcir', feature_schema_id='clr6rzlg60jg307yvf83re8is', options=[]), 'papa_french_angel': Option(value='papa_french_angel', label='PAPA (French Angel)', schema_id='clr6rzlg70jg607yvgshza2o5', feature_schema_id='clr6rzlg70jg507yv2pxs1wh1', options=[]), 'poar_gray_angel': Option(value='poar_gray_angel', label='POAR (Gray Angel)', schema_id='clr6rzlg70jg807yv3ojzbaph', feature_schema_id='clr6rzlg70jg707yvhwgpcr0o', options=[]), 'poma_unknown': Option(value='poma_unknown', label='POMA_UNKNOWN (Unknown Angelfish (Pomacanthidae))', schema_id='clr6rzlg70jga07yvaoqxfes9', feature_schema_id='clr6rzlg70jg907yv705s4olz', options=[]), 'pome_unknown': Option(value='pome_unknown', label='POME_UNKNOWN (Unknown Damselfish (Pomacentridae))', schema_id='clr6rzlg70jgc07yvcjdf3dzp', feature_schema_id='clr6rzlg70jgb07yv2dvy5mrx', options=[]), 'psma_spotted_goatfish': Option(value='psma_spotted_goatfish', label='PSMA (Spotted Goatfish)', schema_id='clrkpudnd01jr0709b3cdbphn', feature_schema_id='clrkpudnd01jq07097wx5ffjz', options=[]), 'ptsp_generic_lionfish': Option(value='ptsp_generic_lionfish', label='PTSP (Generic Lionfish)', schema_id='clr6rzlg70jge07yvay2pbfdc', feature_schema_id='clr6rzlg70jgd07yv0mov1oi3', options=[]), 'rere_remora': Option(value='rere_remora', label='RERE (Remora)', schema_id='clr6rzlg70jgg07yv66e0f7ch', feature_schema_id='clr6rzlg70jgf07yv3o1fc2yi', options=[]), 'scia_unknown': Option(value='scia_unknown', label='SCIA_UNKNOWN (Unknown Drum (Sciaenidae))', schema_id='clr6rzlg70jgi07yvef677zvg', feature_schema_id='clr6rzlg70jgh07yvad215kay', options=[]), 'scis_striped_parrotfish': Option(value='scis_striped_parrotfish', label='SCIS (Striped Parrotfish)', schema_id='clr6rzlg70jgk07yvfq9h4qtg', feature_schema_id='clr6rzlg70jgj07yv8d9w37fu', options=[]), 'scor_unknown': Option(value='scor_unknown', label='SCOR_UNKNOWN (Unknown Scorpionfish (Scorpaenidae))', schema_id='clr6rzlg70jgm07yvcbfpc5tw', feature_schema_id='clr6rzlg70jgl07yv2zyc7ffv', options=[]), 'scpl_spotted_scorpionfish': Option(value='scpl_spotted_scorpionfish', label='SCPL (Spotted Scorpionfish)', schema_id='clr6rzlg70jgo07yv4guweiie', feature_schema_id='clr6rzlg70jgn07yva8lccwdf', options=[]), 'scta_princess_parrotfish': Option(value='scta_princess_parrotfish', label='SCTA (Princess Parrotfish)', schema_id='clr6rzlg70jgq07yv70201se5', feature_schema_id='clr6rzlg70jgp07yv3khi2fsy', options=[]), 'scve_queen_parrotfish': Option(value='scve_queen_parrotfish', label='SCVE (Queen Parrotfish)', schema_id='clr6rzlg70jgs07yv8q51d4fq', feature_schema_id='clr6rzlg70jgr07yvcxy1gb24', options=[]), 'serr_unknown': Option(value='serr_unknown', label='SERR_UNKNOWN (Unknown Grouper (Serranidae))', schema_id='clr6rzlg70jgu07yv9sfn800a', feature_schema_id='clr6rzlg70jgt07yvafyh9e6l', options=[]), 'sote_checkered_puffer': Option(value='sote_checkered_puffer', label='SOTE (Checkered Puffer)', schema_id='clr6rzlg70jgw07yv9p0n8cbx', feature_schema_id='clr6rzlg70jgv07yvdn055ixz', options=[]), 'spau_redband_parrotfish': Option(value='spau_redband_parrotfish', label='SPAU (Redband Parrotfish)', schema_id='clr6rzlg70jgy07yvhf43ged7', feature_schema_id='clr6rzlg70jgx07yvc7h0443t', options=[]), 'spba_barracuda': Option(value='spba_barracuda', label='SPBA (Barracuda)', schema_id='clr6rzlg70jh007yv1mg4gxvk', feature_schema_id='clr6rzlg70jgz07yvfhtf2x74', options=[]), 'sphy_unknown': Option(value='sphy_unknown', label='SPHY_UNKNOWN (Unknown Barracuda (Sphyraenidae))', schema_id='clr6rzlg70jh207yve8a57q7v', feature_schema_id='clr6rzlg70jh107yveqk60qao', options=[]), 'spvi_spotlight_parrotfish': Option(value='spvi_spotlight_parrotfish', label='SPVI (Spotlight Parrotfish)', schema_id='clr6rzlg70jh407yv92tzamhy', feature_schema_id='clr6rzlg70jh307yvfqa025sa', options=[]), 'stad_dusky_damselfish': Option(value='stad_dusky_damselfish', label='STAD (Dusky Damselfish)', schema_id='clr6rzlg70jh607yv6h023d0e', feature_schema_id='clr6rzlg70jh507yvdyiug38m', options=[]), 'stdi_longfin_damselfish': Option(value='stdi_longfin_damselfish', label='STDI (Longfin Damselfish)', schema_id='clr6rzlg70jh807yv52cff56j', feature_schema_id='clr6rzlg70jh707yv9a4fb7p2', options=[]), 'stle_beaugregory': Option(value='stle_beaugregory', label='STLE (Beaugregory)', schema_id='clr6rzlg70jha07yv2og35e8r', feature_schema_id='clr6rzlg70jh907yvdr4z8yg2', options=[]), 'stpa_bicolor_damselfish': Option(value='stpa_bicolor_damselfish', label='STPA (Bicolor Damselfish)', schema_id='clr6rzlg70jhc07yve4big8sg', feature_schema_id='clr6rzlg70jhb07yv2mrk1mqz', options=[]), 'stpl_three_spot_damselfish': Option(value='stpl_three_spot_damselfish', label='STPL (Three Spot Damselfish)', schema_id='clr6rzlg70jhe07yv45i2hx3o', feature_schema_id='clr6rzlg70jhd07yvfvcd3rse', options=[]), 'stxa_cocoa_damselfish': Option(value='stxa_cocoa_damselfish', label='STXA (Cocoa Damselfish)', schema_id='clr6rzlg70jhg07yvcubqcskf', feature_schema_id='clr6rzlg70jhf07yve7w33l55', options=[]), 'tetr_unknown': Option(value='tetr_unknown', label='TETR_UNKNOWN (Unknown Puffer (Tetraodontidae))', schema_id='clr6rzlg80jhi07yv6e0pegu7', feature_schema_id='clr6rzlg70jhh07yv1vnw0las', options=[]), 'thbi_bluehead_wrasse': Option(value='thbi_bluehead_wrasse', label='THBI (Bluehead Wrasse)', schema_id='clr6rzlg80jhk07yv9de6dkpv', feature_schema_id='clr6rzlg80jhj07yvh78v89vd', options=[]), 'gerr_unknown_unknown_mojarra_gerreidae': Option(value='gerr_unknown_unknown_mojarra_gerreidae', label='GERR_UNKNOWN (Unknown Mojarra (Gerreidae))', schema_id='clrnweskl025g071ybxsg7ps7', feature_schema_id='clrnweskl025f071yghku2fi3', options=[]), 'bali_unknown': Option(value='bali_unknown', label='BALI_UNKNOWN (Unknown Triggerfish (Balistidae))', schema_id='cls2014i801oa07wrata7emoq', feature_schema_id='cls2014i801o907wrbbtqf6j4', options=[]), 'spar_unknown_unknown_porgy': Option(value='spar_unknown_unknown_porgy', label='SPAR_UNKNOWN (Unknown Porgy)', schema_id='cluli5y8r03bv073782fk2pqw', feature_schema_id='cluli5y8r03bu0737ahp4ho09', options=[]), 'spru_yellowtail_parrotfish': Option(value='spru_yellowtail_parrotfish', label='SPRU (Yellowtail Parrotfish)', schema_id='clun0m3ze004j07z4h2ljavhp', feature_schema_id='clun0m3ze004i07z4446eadvl', options=[])}\n"
     ]
    }
   ],
   "source": [
    "# Enumerate species labels for YOLO class formatting\n",
    "classes_option = {}\n",
    "classes_enum = {}\n",
    "ordered_class_names = []\n",
    "\n",
    "classes_option[\"fish\"] = {\"label\": \"Fish\", \"value\": \"fish\"}\n",
    "classes_enum[\"fish\"] = 0\n",
    "ordered_class_names.append(\"fish\")\n",
    "\n",
    "if species_level:\n",
    "    for option_num, option in enumerate(tools[0].classifications[0].options):\n",
    "        classes_option[option.value] = option\n",
    "        classes_enum[option.value] = len(ordered_class_names)\n",
    "        ordered_class_names.append(option.value)\n",
    "print(\"Classes: \", len(ordered_class_names))\n",
    "print(classes_option)"
   ]
  },
  {
   "cell_type": "code",
   "execution_count": 15,
   "id": "ed6fe507-3cae-42e0-b7d2-402e83a2354e",
   "metadata": {},
   "outputs": [
    {
     "name": "stderr",
     "output_type": "stream",
     "text": [
      "118it [13:49,  7.03s/it]"
     ]
    },
    {
     "name": "stdout",
     "output_type": "stream",
     "text": [
      "done\n"
     ]
    },
    {
     "name": "stderr",
     "output_type": "stream",
     "text": [
      "\n"
     ]
    }
   ],
   "source": [
    "## Recommended to download JSON from Labelbox using the Browser Interface\n",
    "# TODO: Verify whether or not this includes interpolated (non-keyframed) data\n",
    "\n",
    "# Extracts fish labels from labelbox json file and converts them into YOLO format\n",
    "# Assumes the global_key from labelbox matches the directory structure of the images\n",
    "# Fish class is assumed as 0\n",
    "\n",
    "dry_run = False\n",
    "save_images = False\n",
    "make_copy = True # Good for creating sub-datasets (like species-classifier, since not all videos have been labelled to that level)\n",
    "\n",
    "import json\n",
    "import jsonlines\n",
    "import os\n",
    "from pathlib import Path\n",
    "from bbox_utils import *\n",
    "from tqdm import tqdm\n",
    "import shutil\n",
    "\n",
    "json_path = \"/srv/warplab/shared/datasets/WHOI_RS_Fish_Detector/Labelbox-Export-WHOI-RSI-USVI-Fish-detect-and-track - 6_11_2024.ndjson\"\n",
    "image_root = Path(\"/srv/warplab/shared/datasets/WHOI_RS_Fish_Detector/whoi-rsi-fish-detection-yolo-dataset/images\")\n",
    "# label_output_root = Path(\"/srv/warplab/shared/datasets/WHOI_RS_Fish_Detector/whoi-rsi-fish-detection-yolo-dataset/labels\")\n",
    "# label_output_root = Path(\"/srv/warplab/shared/datasets/WHOI_RS_Fish_Detector/whoi-rsi-fish-detection-yolo-dataset/labels_species_only\")\n",
    "# label_output_root = Path(\"/srv/warplab/shared/datasets/WHOI_RS_Fish_Detector/whoi-rsi-fish-detection-yolo-dataset/test_labels\")\n",
    "# image_output_root = Path(\"/srv/warplab/shared/datasets/WHOI_RS_Fish_Detector/whoi-rsi-fish-detection-yolo-dataset/test_images\")\n",
    "\n",
    "# For species-level datasets\n",
    "label_output_root = Path(\"/srv/warplab/shared/datasets/WHOI_RS_Fish_Detector/whoi-rsi-fish-detection-species-yolo-dataset/labels\")\n",
    "image_output_root = Path(\"/srv/warplab/shared/datasets/WHOI_RS_Fish_Detector/whoi-rsi-fish-detection-species-yolo-dataset/images\")\n",
    "\n",
    "list_of_videos = []\n",
    "stats = {}\n",
    "\n",
    "# with open(json_path, \"r\") as f:\n",
    "with jsonlines.open(json_path, \"r\") as json_file:\n",
    "\n",
    "    # Iterate through each video in the JSON file\n",
    "    for i, datarow in tqdm(enumerate(json_file)):\n",
    "        global_key = datarow[\"data_row\"][\"global_key\"]\n",
    "        \n",
    "        # Skip datarows that are not DONE, if applicable (usually used alongside species-level)\n",
    "        project_status = datarow[\"projects\"][PROJECT_ID][\"project_details\"][\"workflow_status\"]\n",
    "        if data_rows_done_only and not project_status == \"DONE\":\n",
    "            print(\"Skipping not done: \", global_key)\n",
    "            continue\n",
    "\n",
    "        img_sz = (datarow[\"media_attributes\"][\"width\"], datarow[\"media_attributes\"][\"height\"])\n",
    "        \n",
    "        # Video path\n",
    "        vid_path = Path(global_key)\n",
    "        rel_vid_path = vid_path.parent / \"_\".join(vid_path.stem.split(\"_\")[:-1])\n",
    "\n",
    "        # Grab frame labels\n",
    "        try:\n",
    "            frames_json = datarow[\"projects\"][PROJECT_ID][\"labels\"][0][\"annotations\"][\"frames\"]\n",
    "        except:\n",
    "            # No labels in this video, so continue\n",
    "            print(\"Skipping \", global_key, \" has no labels\")\n",
    "            continue\n",
    "\n",
    "        # Iterate through frames\n",
    "        frame_count = datarow[\"media_attributes\"][\"frame_count\"]\n",
    "        \n",
    "        for frame_id in range(frame_count):\n",
    "            img_name = \"frame_%03d\"%(int(frame_id))\n",
    "            img_path = image_root / rel_vid_path / (img_name + \".png\")\n",
    "            output_path = label_output_root / rel_vid_path / (img_name + \".txt\")  \n",
    "\n",
    "            if make_copy:\n",
    "                output_img_path = image_output_root / rel_vid_path / (img_name + \".png\")\n",
    "\n",
    "                if not dry_run:\n",
    "                    os.makedirs(output_img_path.parent, exist_ok=True)\n",
    "                    shutil.copy2(img_path, output_img_path)\n",
    "                else:\n",
    "                    print(\"Copying \", img_path, \" to \", output_img_path)\n",
    "                \n",
    "            # Verify this image exists\n",
    "            assert img_path.exists(), f\"Image not found {img_path}\"\n",
    "            \n",
    "            os.makedirs(output_path.parent, exist_ok=True)\n",
    "            \n",
    "            # Make label file, overwrite if already there\n",
    "            open(output_path, \"w\")\n",
    "\n",
    "            # No labels in this frame, so continue\n",
    "            lblbox_frame_id = frame_id + 1\n",
    "            if str(lblbox_frame_id ) in frames_json:\n",
    "                # There is an off-by-one naming scheme here\n",
    "                frame_data = frames_json[str(lblbox_frame_id)]\n",
    "            else:\n",
    "                continue\n",
    "\n",
    "            for object_id, object_data in frame_data[\"objects\"].items():\n",
    "                lbl_bbox = object_data[\"bounding_box\"]\n",
    "                \n",
    "                if species_level:\n",
    "                    if len(object_data[\"classifications\"]) > 0:\n",
    "                        class_name = object_data[\"classifications\"][0][\"radio_answer\"][\"value\"]\n",
    "                        label = classes_enum[class_name]\n",
    "                    else:\n",
    "                        label = 0\n",
    "                else:\n",
    "                    label = 0\n",
    "\n",
    "                yolo_bbox = list(labelbox2yolo_bbox(lbl_bbox, img_sz))\n",
    "                yolo_bbox.insert(0, label) # Fish class for now\n",
    "                with open(output_path, \"a\") as f:\n",
    "                    if not dry_run:\n",
    "                        f.write(\" \".join(map(str, yolo_bbox)))\n",
    "                        f.write(\"\\n\")\n",
    "\n",
    "        list_of_videos.append(global_key)\n",
    "print(\"done\")"
   ]
  },
  {
   "cell_type": "code",
   "execution_count": 18,
   "id": "466131ed-d753-4e32-8006-4fd72968d539",
   "metadata": {},
   "outputs": [
    {
     "name": "stdout",
     "output_type": "stream",
     "text": [
      "64\n"
     ]
    }
   ],
   "source": [
    "print(len(list_of_videos))"
   ]
  },
  {
   "cell_type": "code",
   "execution_count": 20,
   "id": "fcc5aa70-c67b-4a95-b276-1f265d478681",
   "metadata": {},
   "outputs": [],
   "source": [
    "# Create yolov5 dataset configuration yaml\n",
    "import yaml\n",
    "\n",
    "project_root = Path(\"/srv/warplab/shared/datasets/WHOI_RS_Fish_Detector/whoi-rsi-fish-detection-yolo-dataset/\")\n",
    "train_split_filename = \"train_species_split.txt\"\n",
    "val_split_filename = \"val_species_split.txt\"\n",
    "test_split_filename = \"test_species_split.txt\"\n",
    "dataset_yaml_filename = \"fish_species_yolo_dataset.yaml\"\n",
    "\n",
    "if species_level:\n",
    "    names = dict(zip(classes_enum.values(), classes_enum.keys()))\n",
    "else:\n",
    "    names = {0: \"fish\"}\n",
    "\n",
    "yolo_dataset = {\n",
    "    \"path\": str(project_root),\n",
    "    \"train\": f\"./{train_split_filename}\",\n",
    "    \"val\": f\"./{val_split_filename}\",\n",
    "    \"test\": f\"./{test_split_filename}\",\n",
    "    \"names\": names,\n",
    "}\n",
    "yaml_data = yaml.dump(yolo_dataset)\n",
    "with open(project_root / dataset_yaml_filename, \"w\") as f:\n",
    "    f.write(yaml_data)"
   ]
  },
  {
   "cell_type": "code",
   "execution_count": 33,
   "id": "0ba7239b-36bd-4a86-8e72-7cd88aef2f4f",
   "metadata": {},
   "outputs": [
    {
     "name": "stderr",
     "output_type": "stream",
     "text": [
      "14670it [04:13, 57.77it/s] "
     ]
    },
    {
     "name": "stdout",
     "output_type": "stream",
     "text": [
      "done\n",
      "{'num_train_frames': 1890, 'num_val_frames': 630, 'num_test_frames': 3240}\n"
     ]
    },
    {
     "name": "stderr",
     "output_type": "stream",
     "text": [
      "\n"
     ]
    }
   ],
   "source": [
    "# Create train, val, and test splits\n",
    "open(project_root / train_split_filename, \"w\")\n",
    "open(project_root / val_split_filename, \"w\")\n",
    "open(project_root / test_split_filename, \"w\")\n",
    "\n",
    "import glob\n",
    "\n",
    "# Test split contains only years 2016 and 2017, these dates are inferred from the global_key\n",
    "img_paths = glob.iglob(str(project_root / \"**/*.png\"), recursive=True)\n",
    "\n",
    "# Note: this only adds images that have corresponding labels\n",
    "split_stats = {}\n",
    "split_stats[\"num_train_frames\"] = 0\n",
    "split_stats[\"num_val_frames\"] = 0\n",
    "split_stats[\"num_test_frames\"] = 0\n",
    "\n",
    "\n",
    "for img_path in tqdm(img_paths):\n",
    "    # Get relative path starting at project root\n",
    "    project_root_parts = len(project_root.parts)\n",
    "\n",
    "    frame_path = Path(*Path(img_path).parts[project_root_parts+1:])\n",
    "    project_img_path = \"images\" / frame_path\n",
    "    \n",
    "    vid_path = project_img_path.parent\n",
    "    \n",
    "    if not (project_root / \"labels\" / frame_path.with_suffix(\".txt\")).exists():\n",
    "        continue\n",
    "    \n",
    "    with open(project_root / \"video_list.txt\", \"a\") as f:\n",
    "        f.write(str(vid_path) + \"\\n\")\n",
    "        \n",
    "    # Test split\n",
    "    if \"2016\" in str(project_img_path) or \"2017\" in str(project_img_path):\n",
    "        with open(project_root / test_split_filename, \"a\") as f:\n",
    "            f.write(\"./\" + str(project_img_path) + \"\\n\")\n",
    "        split_stats[\"num_test_frames\"] += 1\n",
    "            \n",
    "    # Val split\n",
    "    elif \"2018\" in str(project_img_path):\n",
    "        with open(project_root / val_split_filename, \"a\") as f:\n",
    "            f.write(\"./\" + str(project_img_path) + \"\\n\")\n",
    "        split_stats[\"num_val_frames\"] += 1\n",
    "    \n",
    "    # Train split\n",
    "    else:\n",
    "        with open(project_root / train_split_filename, \"a\") as f:\n",
    "            f.write(\"./\" + str(project_img_path) + \"\\n\")\n",
    "        split_stats[\"num_train_frames\"] += 1\n",
    "        \n",
    "print(\"done\")\n",
    "print(split_stats)\n"
   ]
  }
 ],
 "metadata": {
  "kernelspec": {
   "display_name": "Python 3 (ipykernel)",
   "language": "python",
   "name": "python3"
  },
  "language_info": {
   "codemirror_mode": {
    "name": "ipython",
    "version": 3
   },
   "file_extension": ".py",
   "mimetype": "text/x-python",
   "name": "python",
   "nbconvert_exporter": "python",
   "pygments_lexer": "ipython3",
   "version": "3.12.3"
  }
 },
 "nbformat": 4,
 "nbformat_minor": 5
}
