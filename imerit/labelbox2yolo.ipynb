{
 "cells": [
  {
   "cell_type": "code",
   "execution_count": 1,
   "id": "410b3151-72f5-49e7-864f-fa557eba4615",
   "metadata": {},
   "outputs": [
    {
     "name": "stdout",
     "output_type": "stream",
     "text": [
      "===ONTOLOGY DETAILS===\n",
      "Name:  WHOI-RSI-USVI-Fish\n",
      "\n",
      "===PROJECT DETAILS===\n",
      "Name:  WHOI-RSI-USVI-Fish-detect-and-track\n",
      "\n",
      "===DATASET DETAILS===\n",
      "Name:  imerit-26102023-3fps-clips\n"
     ]
    }
   ],
   "source": [
    "import labelbox as lb\n",
    "import labelbox.types as lb_types\n",
    "import uuid\n",
    "import base64\n",
    "import requests\n",
    "\n",
    "# Setup client\n",
    "with open(\"labelbox_api_key.txt\",\"r\") as f:\n",
    "    API_KEY = f.read().strip()\n",
    "client = lb.Client(api_key=API_KEY)\n",
    "\n",
    "# Get ontology\n",
    "print(\"===ONTOLOGY DETAILS===\")\n",
    "ontology = client.get_ontology(\"clqo6bd8v0jc407ybc1r9ehlb\")\n",
    "print(\"Name: \", ontology.name)\n",
    "tools = ontology.tools()\n",
    "\n",
    "# for tool in tools:\n",
    "#   print(tool)\n",
    "\n",
    "# Get project\n",
    "print(\"\\n===PROJECT DETAILS===\")\n",
    "PROJECT_ID = 'clqoh3ylw1o8s070hd6ch5z7o' # WHOI RSI USVI Fish\n",
    "# PROJECT_ID = 'clqo7auln0mpo07wphorp0t2e' # Test WHOI RSI USVI Fish\n",
    "project = client.get_project(PROJECT_ID)\n",
    "print(\"Name: \", project.name)\n",
    "\n",
    "# Get dataset\n",
    "DATASET_ID = \"clqh7v7qi001r07886j6aws7i\"\n",
    "dataset = client.get_dataset(DATASET_ID)\n",
    "print(\"\\n===DATASET DETAILS===\")\n",
    "print(\"Name: \", dataset.name)"
   ]
  },
  {
   "cell_type": "code",
   "execution_count": 7,
   "id": "075b028c-34d6-4f40-b9e8-f7ddfc2cfe59",
   "metadata": {},
   "outputs": [],
   "source": [
    "## General fish detector first\n",
    "# Extract species and associate ids:\n",
    "# for option in tools[0].classifications[0].options:\n",
    "#     print(option.label)\n"
   ]
  },
  {
   "cell_type": "code",
   "execution_count": 10,
   "id": "216e5d2c-51ab-4efd-b421-463aeb25a0c4",
   "metadata": {},
   "outputs": [
    {
     "name": "stderr",
     "output_type": "stream",
     "text": [
      "<>:47: SyntaxWarning: assertion is always true, perhaps remove parentheses?\n",
      "<>:47: SyntaxWarning: assertion is always true, perhaps remove parentheses?\n",
      "/tmp/ipykernel_2009170/2880659347.py:47: SyntaxWarning: assertion is always true, perhaps remove parentheses?\n",
      "  assert(img_path.exists(), f\"Image not found {img_path}\")\n",
      "12it [01:09,  5.61s/it]"
     ]
    },
    {
     "name": "stdout",
     "output_type": "stream",
     "text": [
      "Skipping  Summer2016/JoelsShoal30mTransects061016/P6100005_0m_20s_aws150.mp4  has no labels\n"
     ]
    },
    {
     "name": "stderr",
     "output_type": "stream",
     "text": [
      "163it [06:04,  2.24s/it]"
     ]
    },
    {
     "name": "stdout",
     "output_type": "stream",
     "text": [
      "done\n"
     ]
    },
    {
     "name": "stderr",
     "output_type": "stream",
     "text": [
      "\n"
     ]
    }
   ],
   "source": [
    "## Recommended to download JSON from Labelbox using the Browser Interface\n",
    "# TODO: Verify whether or not this includes interpolated (non-keyframed) data\n",
    "\n",
    "# Extracts fish labels from labelbox json file and converts them into YOLO format\n",
    "# Assumes the global_key from labelbox matches the directory structure of the images\n",
    "# Fish class is assumed as 0\n",
    "\n",
    "import json\n",
    "import jsonlines\n",
    "import os\n",
    "from pathlib import Path\n",
    "from bbox_utils import *\n",
    "from tqdm import tqdm\n",
    "\n",
    "json_path = \"/srv/warplab/shared/datasets/WHOI_RS_Fish_Detector/whoi-rsi-fish-detection-labels-04042024.json\"\n",
    "image_root = Path(\"/srv/warplab/shared/datasets/WHOI_RS_Fish_Detector/whoi-rsi-fish-detection-yolo-dataset/images\")\n",
    "label_output_root = Path(\"/srv/warplab/shared/datasets/WHOI_RS_Fish_Detector/whoi-rsi-fish-detection-yolo-dataset/labels\")\n",
    "\n",
    "# with open(json_path, \"r\") as f:\n",
    "with jsonlines.open(json_path) as f:\n",
    "\n",
    "    # Iterate through each video\n",
    "    for i, datarow in tqdm(enumerate(f)):\n",
    "        global_key = datarow[\"data_row\"][\"global_key\"]\n",
    "\n",
    "        img_sz = (datarow[\"media_attributes\"][\"width\"], datarow[\"media_attributes\"][\"height\"])\n",
    "        \n",
    "        # Video path\n",
    "        vid_path = Path(global_key)\n",
    "        rel_vid_path = vid_path.parent / \"_\".join(vid_path.stem.split(\"_\")[:-1])\n",
    "\n",
    "        # Grab frame labels\n",
    "        try:\n",
    "            frames_json = datarow[\"projects\"][PROJECT_ID][\"labels\"][0][\"annotations\"][\"frames\"]\n",
    "        except:\n",
    "            print(\"Skipping \", global_key, \" has no labels\")\n",
    "            continue\n",
    "\n",
    "        # Iterate through frames\n",
    "        for frame_id, frame_data in frames_json.items():\n",
    "            img_name = \"frame_%03d\"%(int(frame_id)-1)\n",
    "\n",
    "            img_path = image_root / rel_vid_path / (img_name + \".png\")\n",
    "            output_path = label_output_root / rel_vid_path / (img_name + \".txt\")\n",
    "\n",
    "            # Verify this image exists\n",
    "            assert(img_path.exists(), f\"Image not found {img_path}\")\n",
    "\n",
    "            os.makedirs(output_path.parent, exist_ok=True)\n",
    "            \n",
    "            for object_id, object_data in frame_data[\"objects\"].items():\n",
    "                lbl_bbox = object_data[\"bounding_box\"]\n",
    "\n",
    "                # print(object_data[\"name\"])\n",
    "                \n",
    "                # if len(object_data[\"classifications\"]) > 0:\n",
    "                #     print(object_data[\"classifications\"])\n",
    "\n",
    "                yolo_bbox = list(labelbox2yolo_bbox(lbl_bbox, img_sz))\n",
    "                yolo_bbox.insert(0,0) # Fish class for now\n",
    "                with open(output_path, \"a\") as f:\n",
    "                    f.write(\" \".join(map(str, yolo_bbox)))\n",
    "                    f.write(\"\\n\")\n",
    "\n",
    "print(\"done\")"
   ]
  },
  {
   "cell_type": "code",
   "execution_count": 11,
   "id": "ed6fe507-3cae-42e0-b7d2-402e83a2354e",
   "metadata": {},
   "outputs": [
    {
     "name": "stderr",
     "output_type": "stream",
     "text": [
      "<>:47: SyntaxWarning: assertion is always true, perhaps remove parentheses?\n",
      "<>:47: SyntaxWarning: assertion is always true, perhaps remove parentheses?\n",
      "/tmp/ipykernel_2009170/1460734442.py:47: SyntaxWarning: assertion is always true, perhaps remove parentheses?\n",
      "  assert(img_path.exists(), f\"Image not found {img_path}\")\n",
      "12it [01:03,  4.87s/it]"
     ]
    },
    {
     "name": "stdout",
     "output_type": "stream",
     "text": [
      "Skipping  Summer2016/JoelsShoal30mTransects061016/P6100005_0m_20s_aws150.mp4  has no labels\n"
     ]
    },
    {
     "name": "stderr",
     "output_type": "stream",
     "text": [
      "163it [06:01,  2.22s/it]"
     ]
    },
    {
     "name": "stdout",
     "output_type": "stream",
     "text": [
      "done\n"
     ]
    },
    {
     "name": "stderr",
     "output_type": "stream",
     "text": [
      "\n"
     ]
    }
   ],
   "source": [
    "## Recommended to download JSON from Labelbox using the Browser Interface\n",
    "# TODO: Verify whether or not this includes interpolated (non-keyframed) data\n",
    "\n",
    "# Extracts fish labels from labelbox json file and converts them into YOLO format\n",
    "# Assumes the global_key from labelbox matches the directory structure of the images\n",
    "# Fish class is assumed as 0\n",
    "\n",
    "import json\n",
    "import jsonlines\n",
    "import os\n",
    "from pathlib import Path\n",
    "from bbox_utils import *\n",
    "from tqdm import tqdm\n",
    "\n",
    "json_path = \"/srv/warplab/shared/datasets/WHOI_RS_Fish_Detector/whoi-rsi-fish-detection-labels-04042024.json\"\n",
    "image_root = Path(\"/srv/warplab/shared/datasets/WHOI_RS_Fish_Detector/whoi-rsi-fish-detection-yolo-dataset/images\")\n",
    "label_output_root = Path(\"/srv/warplab/shared/datasets/WHOI_RS_Fish_Detector/whoi-rsi-fish-detection-yolo-dataset/labels\")\n",
    "\n",
    "# with open(json_path, \"r\") as f:\n",
    "with jsonlines.open(json_path) as f:\n",
    "\n",
    "    # Iterate through each video\n",
    "    for i, datarow in tqdm(enumerate(f)):\n",
    "        global_key = datarow[\"data_row\"][\"global_key\"]\n",
    "\n",
    "        img_sz = (datarow[\"media_attributes\"][\"width\"], datarow[\"media_attributes\"][\"height\"])\n",
    "        \n",
    "        # Video path\n",
    "        vid_path = Path(global_key)\n",
    "        rel_vid_path = vid_path.parent / \"_\".join(vid_path.stem.split(\"_\")[:-1])\n",
    "\n",
    "        # Grab frame labels\n",
    "        try:\n",
    "            frames_json = datarow[\"projects\"][PROJECT_ID][\"labels\"][0][\"annotations\"][\"frames\"]\n",
    "        except:\n",
    "            print(\"Skipping \", global_key, \" has no labels\")\n",
    "            continue\n",
    "\n",
    "        # Iterate through frames\n",
    "        # TODO: brittle, instead iterate through known images\n",
    "        for frame_id in range(90):\n",
    "            img_name = \"frame_%03d\"%(int(frame_id)-1)\n",
    "            img_path = image_root / rel_vid_path / (img_name + \".png\")\n",
    "            output_path = label_output_root / rel_vid_path / (img_name + \".txt\")  \n",
    "            \n",
    "            # Verify this image exists\n",
    "            assert(img_path.exists(), f\"Image not found {img_path}\")\n",
    "            \n",
    "            os.makedirs(output_path.parent, exist_ok=True)\n",
    "            \n",
    "            # Make label file, overwrite if already there\n",
    "            open(output_path, \"w\")\n",
    "            \n",
    "            if str(frame_id) in frames_json:\n",
    "                frame_data = frames_json[str(frame_id)]\n",
    "            else:\n",
    "                continue\n",
    "\n",
    "            for object_id, object_data in frame_data[\"objects\"].items():\n",
    "                lbl_bbox = object_data[\"bounding_box\"]\n",
    "\n",
    "                # print(object_data[\"name\"])\n",
    "                \n",
    "                # if len(object_data[\"classifications\"]) > 0:\n",
    "                #     print(object_data[\"classifications\"])\n",
    "\n",
    "                yolo_bbox = list(labelbox2yolo_bbox(lbl_bbox, img_sz))\n",
    "                yolo_bbox.insert(0,0) # Fish class for now\n",
    "                with open(output_path, \"a\") as f:\n",
    "                    f.write(\" \".join(map(str, yolo_bbox)))\n",
    "                    f.write(\"\\n\")\n",
    "\n",
    "print(\"done\")"
   ]
  },
  {
   "cell_type": "code",
   "execution_count": 13,
   "id": "fcc5aa70-c67b-4a95-b276-1f265d478681",
   "metadata": {},
   "outputs": [],
   "source": [
    "# Create yolov5 dataset configuration yaml\n",
    "import yaml\n",
    "\n",
    "project_root = Path(\"/srv/warplab/shared/datasets/WHOI_RS_Fish_Detector/whoi-rsi-fish-detection-yolo-dataset/\")\n",
    "train_split_filename = \"train_split.txt\"\n",
    "val_split_filename = \"val_split.txt\"\n",
    "test_split_filename = \"test_split.txt\"\n",
    "\n",
    "yolo_dataset = {\n",
    "    \"path\": str(project_root),\n",
    "    \"train\": f\"./{train_split_filename}\",\n",
    "    \"val\": f\"./{val_split_filename}\",\n",
    "    \"test\": f\"./{test_split_filename}\",\n",
    "    \"names\": {0: \"fish\"},\n",
    "}\n",
    "yaml_data = yaml.dump(yolo_dataset)\n",
    "with open(project_root / \"yolo_dataset.yaml\", \"w\") as f:\n",
    "    f.write(yaml_data)"
   ]
  },
  {
   "cell_type": "code",
   "execution_count": 22,
   "id": "0ba7239b-36bd-4a86-8e72-7cd88aef2f4f",
   "metadata": {},
   "outputs": [
    {
     "name": "stderr",
     "output_type": "stream",
     "text": [
      "14670it [01:22, 177.71it/s]"
     ]
    },
    {
     "name": "stdout",
     "output_type": "stream",
     "text": [
      "done\n"
     ]
    },
    {
     "name": "stderr",
     "output_type": "stream",
     "text": [
      "\n"
     ]
    }
   ],
   "source": [
    "# Create train, val, and test splits\n",
    "open(project_root / train_split_filename, \"w\")\n",
    "open(project_root / val_split_filename, \"w\")\n",
    "open(project_root / test_split_filename, \"w\")\n",
    "\n",
    "import glob\n",
    "\n",
    "# Test split contains only years 2016 and 2017, these dates are inferred from the global_key\n",
    "img_paths = glob.iglob(str(project_root / \"**/*.png\"), recursive=True)\n",
    "\n",
    "for img_path in tqdm(img_paths):\n",
    "    # Get relative path starting at project root\n",
    "    project_root_parts = len(project_root.parts)\n",
    "    \n",
    "    project_img_path = Path(*Path(img_path).parts[project_root_parts:])\n",
    "    \n",
    "    vid_path = project_img_path.parent\n",
    "    \n",
    "    with open(project_root / \"video_list.txt\", \"a\") as f:\n",
    "        f.write(str(vid_path) + \"\\n\")\n",
    "        \n",
    "    # Test split\n",
    "    if \"2016\" in str(project_img_path) or \"2017\" in str(project_img_path):\n",
    "        with open(project_root / test_split_filename, \"a\") as f:\n",
    "            f.write(\"./\" + str(project_img_path) + \"\\n\")\n",
    "            \n",
    "    # Val split\n",
    "    elif \"2018\" in str(project_img_path):\n",
    "        with open(project_root / val_split_filename, \"a\") as f:\n",
    "            f.write(\"./\" + str(project_img_path) + \"\\n\")\n",
    "    \n",
    "    # Train split\n",
    "    else:\n",
    "        with open(project_root / train_split_filename, \"a\") as f:\n",
    "            f.write(\"./\" + str(project_img_path) + \"\\n\")\n",
    "        \n",
    "print(\"done\")\n"
   ]
  }
 ],
 "metadata": {
  "kernelspec": {
   "display_name": "Python 3 (ipykernel)",
   "language": "python",
   "name": "python3"
  },
  "language_info": {
   "codemirror_mode": {
    "name": "ipython",
    "version": 3
   },
   "file_extension": ".py",
   "mimetype": "text/x-python",
   "name": "python",
   "nbconvert_exporter": "python",
   "pygments_lexer": "ipython3",
   "version": "3.8.13"
  }
 },
 "nbformat": 4,
 "nbformat_minor": 5
}
