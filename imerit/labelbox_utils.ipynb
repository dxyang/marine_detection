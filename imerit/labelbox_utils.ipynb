{
 "cells": [
  {
   "cell_type": "code",
   "execution_count": 2,
   "id": "ae5b1590-7430-48b4-912d-93d5eb570a64",
   "metadata": {},
   "outputs": [
    {
     "name": "stdout",
     "output_type": "stream",
     "text": [
      "===ONTOLOGY DETAILS===\n",
      "Name:  WHOI-RSI-USVI-Fish\n",
      "Tool(tool=<Type.BBOX: 'rectangle'>, name='Fish', required=False, color='#ffa900', classifications=[Classification(class_type=<Type.RADIO: 'radio'>, name='species', instructions='Species', required=False, options=[Option(value='absa_sergeant_major', label='ABSA (Sergeant Major)', schema_id='clr6rzlg40jca07yvbsh21gix', feature_schema_id='clr6rzlg40jc907yvaa6c74uy', options=[]), Option(value='acan_unknown', label='ACAN_UNKNOWN (Unknown Tang (Acanthuridae))', schema_id='clr6rzlg40jcc07yvdvimbb07', feature_schema_id='clr6rzlg40jcb07yv2wiu7we2', options=[]), Option(value='acch_doctorfish', label='ACCH (Doctorfish)', schema_id='clr6rzlg40jce07yvc1bf39h4', feature_schema_id='clr6rzlg40jcd07yv93yo4448', options=[]), Option(value='acco_blue_tang', label='ACCO (Blue Tang)', schema_id='clr6rzlg40jcg07yvhpdl0y1h', feature_schema_id='clr6rzlg40jcf07yvek4v76ng', options=[]), Option(value='acpo_honeycomb_cowfish', label='ACPO (Honeycomb Cowfish)', schema_id='clr6rzlg40jci07yv74smh79v', feature_schema_id='clr6rzlg40jch07yv8mhz9rsb', options=[]), Option(value='acqu_scrawled_cowfish', label='ACQU (Scrawled Cowfish)', schema_id='clr6rzlg40jck07yv6bcm1l91', feature_schema_id='clr6rzlg40jcj07yvdfbuegzs', options=[]), Option(value='actr_surgeonfish', label='ACTR (Surgeonfish)', schema_id='clr6rzlg40jcm07yv6mib1t7m', feature_schema_id='clr6rzlg40jcl07yv376n2op7', options=[]), Option(value='alsc_scrawled_filefish', label='ALSC (Scrawled Filefish)', schema_id='clr6rzlg40jco07yv2md62gx8', feature_schema_id='clr6rzlg40jcn07yvfbfv4eqt', options=[]), Option(value='anvi_porkfish', label='ANVI (Porkfish)', schema_id='clr6rzlg40jcq07yvakqygx43', feature_schema_id='clr6rzlg40jcp07yvbl3kfjbu', options=[]), Option(value='aulo_unknown', label='AULO_UNKNOWN (Unknown Trumpetfish (Aulostomidae))', schema_id='clr6rzlg40jcs07yv1bc25wzw', feature_schema_id='clr6rzlg40jcr07yvcr9d62x4', options=[]), Option(value='ausp_generic_trumpetfish', label='AUSP (Generic Trumpetfish)', schema_id='clr6rzlg40jcu07yvezfha5oj', feature_schema_id='clr6rzlg40jct07yv4d396pgm', options=[]), Option(value='azcy_blue_chromis', label='AZCY (Blue Chromis)', schema_id='clr6rzlg40jcw07yv5yga37fl', feature_schema_id='clr6rzlg40jcv07yv5aoibmf5', options=[]), Option(value='azmu_brown_chromis', label='AZMU (Brown Chromis)', schema_id='clr6rzlg40jcy07yva6sq7nhr', feature_schema_id='clr6rzlg40jcx07yvfvj957yk', options=[]), Option(value='bach_smallmouth_grunt', label='BACH (Smallmouth Grunt)', schema_id='clr6rzlg40jd007yv9td73qi3', feature_schema_id='clr6rzlg40jcz07yv3afj6q34', options=[]), Option(value='boru_spanish_hogfish', label='BORU (Spanish Hogfish)', schema_id='clr6rzlg40jd207yv26v6h9v7', feature_schema_id='clr6rzlg40jd107yv9y238ixm', options=[]), Option(value='cama_whitespotted_filefish', label='CAMA (Whitespotted Filefish)', schema_id='clr6rzlg40jd407yv6fho5yw1', feature_schema_id='clr6rzlg40jd307yvd3n87513', options=[]), Option(value='capu_orangespotted_filefish', label='CAPU (Orangespotted filefish)', schema_id='clr6rzlg40jd607yvbjnog01v', feature_schema_id='clr6rzlg40jd507yvcpeq8blf', options=[]), Option(value='cara_unknown', label='CARA_UNKNOWN (Unknown Jack (Carangidae))', schema_id='clr6rzlg40jd807yv3yibhv2f', feature_schema_id='clr6rzlg40jd707yvchj441hz', options=[]), Option(value='carb_yellow_jack', label='CARB (Yellow Jack)', schema_id='clr6rzlg40jda07yvb66ffqpr', feature_schema_id='clr6rzlg40jd907yv50z4e73q', options=[]), Option(value='carl_horse_eye_jack', label='CARL (Horse-eye Jack)', schema_id='clr6rzlg40jdc07yv14gyh0p7', feature_schema_id='clr6rzlg40jdb07yvbch38i47', options=[]), Option(value='caro_sharpnose_puffer', label='CARO (Sharpnose Puffer)', schema_id='clr6rzlg40jde07yvcbks4q2a', feature_schema_id='clr6rzlg40jdd07yvav3j7yzs', options=[]), Option(value='caru_bar_jack', label='CARU (Bar Jack)', schema_id='clr6rzlg40jdg07yv28i2h16w', feature_schema_id='clr6rzlg40jdf07yv7swcg2d2', options=[]), Option(value='cecr_graysby', label='CECR (Graysby)', schema_id='clr6rzlg40jdi07yv70tv8qyi', feature_schema_id='clr6rzlg40jdh07yv0ktc0v2r', options=[]), Option(value='cefu_coney', label='CEFU (Coney)', schema_id='clr6rzlg40jdk07yv85px123i', feature_schema_id='clr6rzlg40jdj07yv68941dvi', options=[]), Option(value='chae_unknown', label='CHAE_UNKNOWN (Unknown Butterflyfish (Chaetodontidae))', schema_id='clr6rzlg40jdm07yv8lyd75ek', feature_schema_id='clr6rzlg40jdl07yv9e0gbbjn', options=[]), Option(value='chca_four_eye_butterflyfish', label='CHCA (Four-eye Butterflyfish)', schema_id='clr6rzlg40jdo07yvcr7wfvbb', feature_schema_id='clr6rzlg40jdn07yv93wd73du', options=[]), Option(value='choc_spotfin_butterflyfish', label='CHOC (Spotfin Butterflyfish)', schema_id='clr6rzlg50jdq07yvf46j4q21', feature_schema_id='clr6rzlg50jdp07yv9tvg1qow', options=[]), Option(value='chst_banded_butterflyfish', label='CHST (Banded Butterflyfish)', schema_id='clr6rzlg50jds07yv3hi5d23n', feature_schema_id='clr6rzlg50jdr07yvfhhob5ol', options=[]), Option(value='clpa_creole_wrasse', label='CLPA (Creole Wrasse)', schema_id='clr6rzlg50jdu07yvfz7g42eu', feature_schema_id='clr6rzlg50jdt07yvhea5el47', options=[]), Option(value='daam_southern_stingray', label='DAAM (Southern Stingray)', schema_id='clr6rzlg50jdw07yv4ile1l6h', feature_schema_id='clr6rzlg50jdv07yv2dm7460u', options=[]), Option(value='dasy_unknown', label='DASY_UNKNOWN (Unknown Whiptail Stingrays (Dasyatidae))', schema_id='clr6rzlg50jdy07yv08p1affe', feature_schema_id='clr6rzlg50jdx07yv4tse0hhw', options=[]), Option(value='dioh_porcupinefish', label='DIOH (Porcupinefish)', schema_id='clr6rzlg50je007yvey2fbh17', feature_schema_id='clr6rzlg50jdz07yva8rh0na8', options=[]), Option(value='doid_unknown', label='DOID_UNKNOWN (Unknown Porcupinefish (Diodontidate))', schema_id='clr6rzlg50je207yvfp4shkwc', feature_schema_id='clr6rzlg50je107yvghb35fpn', options=[]), Option(value='eche_unknown', label='ECHE_UNKNOWN (Unknown Remora (Echeneidae))', schema_id='clr6rzlg50je407yvaobzgh53', feature_schema_id='clr6rzlg50je307yv4os5a3pg', options=[]), Option(value='epad_rock_hind', label='EPAD (Rock Hind)', schema_id='clr6rzlg50je607yvgawu82dk', feature_schema_id='clr6rzlg50je507yv77e9c2sc', options=[]), Option(value='epgu_red_hind', label='EPGU (Red Hind)', schema_id='clr6rzlg50je807yv9l96corp', feature_schema_id='clr6rzlg50je707yv0xmj42re', options=[]), Option(value='epin_unknown', label='EPIN_UNKNOWN (Unknown Grouper (Epinephediidae))', schema_id='clr6rzlg50jea07yv3lla298o', feature_schema_id='clr6rzlg50je907yv77yv9uqd', options=[]), Option(value='epst_nassau_grouper', label='EPST (Nassau Grouper)', schema_id='clr6rzlg50jec07yvcgqogg9i', feature_schema_id='clr6rzlg50jeb07yvgpor24hr', options=[]), Option(value='eqpu_spotted_drum', label='EQPU (Spotted Drum)', schema_id='clr6rzlg50jee07yvaeaydf2t', feature_schema_id='clr6rzlg50jed07yvbv0m0s9z', options=[]), Option(value='gici_nurse_shark', label='GICI (Nurse Shark)', schema_id='clr6rzlg50jeg07yvcuapg383', feature_schema_id='clr6rzlg50jef07yv3tyfd9r1', options=[]), Option(value='ging_unknown', label='GING_UNKNOWN (Unknown Nurse Shark (Ginglymostomatidae))', schema_id='clr6rzlg50jei07yvcarr2wki', feature_schema_id='clr6rzlg50jeh07yv80qscm21', options=[]), Option(value='gral_fairy_basslet', label='GRAL (Fairy basslet)', schema_id='clr6rzlg50jek07yv76mvggsw', feature_schema_id='clr6rzlg50jej07yv60jzah30', options=[]), Option(value='gram_unknown', label='GRAM_UNKNOWN (Unknown Basslet (Grammatidae))', schema_id='clr6rzlg50jem07yv1awd0wbx', feature_schema_id='clr6rzlg50jel07yvb0b39dpg', options=[]), Option(value='haem_unknown', label='HAEM_UNKNOWN (Unknown Grunt (Haemulidae))', schema_id='clr6rzlg60jeo07yv70772m3w', feature_schema_id='clr6rzlg60jen07yvh8cnahtu', options=[]), Option(value='hafl_french_grunt', label='HAFL (French Grunt)', schema_id='clr6rzlg60jeq07yv3gx79llx', feature_schema_id='clr6rzlg60jep07yvh7s29qdt', options=[]), Option(value='haga_yellowheaded_wrasse', label='HAGA (Yellowheaded Wrasse)', schema_id='clr6rzlg60jes07yv4ied5jae', feature_schema_id='clr6rzlg60jer07yv7k524eim', options=[]), Option(value='hali_general_wrasses', label='HALI (General Wrasses)', schema_id='clr6rzlg60jeu07yv1zq1a0cc', feature_schema_id='clr6rzlg60jet07yv6j0rcimc', options=[]), Option(value='hara_puddingwife', label='HARA (Puddingwife)', schema_id='clr6rzlg60jew07yvayf6bhob', feature_schema_id='clr6rzlg60jev07yv1kto4ku4', options=[]), Option(value='hasc_bluestriped_grunt', label='HASC (Bluestriped Grunt)', schema_id='clr6rzlg60jey07yve5yl6ez1', feature_schema_id='clr6rzlg60jex07yv3dyebqdw', options=[]), Option(value='hasp_general_grunts', label='HASP (General Grunts)', schema_id='clr6rzlg60jf007yv1mru6hmg', feature_schema_id='clr6rzlg60jez07yvdghh8gdw', options=[]), Option(value='hoca_queen_angel', label='HOCA (Queen Angel)', schema_id='clr6rzlg60jf207yvejqa9mwt', feature_schema_id='clr6rzlg60jf107yva8ja6ulo', options=[]), Option(value='holo_unknown', label='HOLO_UNKNOWN (Unknown Squirrelfish (Holocentridae))', schema_id='clr6rzlg60jf407yv1v8n2fda', feature_schema_id='clr6rzlg60jf307yv5zpzac4v', options=[]), Option(value='hosp_general_squirrelfish', label='HOSP (General Squirrelfish)', schema_id='clr6rzlg60jf607yv312t6p6i', feature_schema_id='clr6rzlg60jf507yvfwz10fby', options=[]), Option(value='hotr_rock_beauty_angel', label='HOTR (Rock Beauty Angel)', schema_id='clr6rzlg60jf807yvchav13eo', feature_schema_id='clr6rzlg60jf707yv3ir40gak', options=[]), Option(value='hyni_black_hamlet', label='HYNI (Black Hamlet)', schema_id='clr6rzlg60jfa07yv8z93e7m6', feature_schema_id='clr6rzlg60jf907yv4e1xggsv', options=[]), Option(value='hypu_barred_hamlet', label='HYPU (Barred Hamlet)', schema_id='clr6rzlg60jfc07yv5ou71dr3', feature_schema_id='clr6rzlg60jfb07yv7x397ida', options=[]), Option(value='labi_spotted_trunkfish', label='LABI (Spotted Trunkfish)', schema_id='clr6rzlg60jfe07yv14k07hmv', feature_schema_id='clr6rzlg60jfd07yv044vgzb7', options=[]), Option(value='labr_unknown', label='LABR_UNKNOWN (Unknown Wrasse (Labridae))', schema_id='clr6rzlg60jfg07yvhcv0ht55', feature_schema_id='clr6rzlg60jff07yvaksj33wu', options=[]), Option(value='lama_hogfish', label='LAMA (Hogfish)', schema_id='clr6rzlg60jfi07yv4isx7asm', feature_schema_id='clr6rzlg60jfh07yv6lxbfc0u', options=[]), Option(value='latr_smooth_trunkfish', label='LATR (Smooth Trunkfish)', schema_id='clr6rzlg60jfk07yv7yp64wn4', feature_schema_id='clr6rzlg60jfj07yv4kbd6gx2', options=[]), Option(value='luap_schoolmaster_snapper', label='LUAP (Schoolmaster Snapper)', schema_id='clr6rzlg60jfm07yv2nqq3w28', feature_schema_id='clr6rzlg60jfl07yv0kec3q6y', options=[]), Option(value='lugr_gray_snapper', label='LUGR (Gray Snapper)', schema_id='clr6rzlg60jfo07yv3aencvhn', feature_schema_id='clr6rzlg60jfn07yvdiu70plp', options=[]), Option(value='lutj_unknown', label='LUTJ_UNKNOWN (Unknown Snapper (Lutjanidae))', schema_id='clr6rzlg60jfq07yv8luw6zro', feature_schema_id='clr6rzlg60jfp07yv9wihdo0l', options=[]), Option(value='micr_yellowtail_damselfish', label='MICR (Yellowtail Damselfish)', schema_id='clr6rzlg60jfs07yv05i85gt5', feature_schema_id='clr6rzlg60jfr07yvbcotbj6r', options=[]), Option(value='mona_unknown', label='MONA_UNKNOWN (Unknown Filefish (Monacanthidae))', schema_id='clr6rzlg60jfu07yvhvl0d4aa', feature_schema_id='clr6rzlg60jft07yvav7u8uu1', options=[]), Option(value='mull_unknown_unknown_goatfish', label='MULL_UNKNOWN (Unknown Goatfish)', schema_id='clrkpudnd01je0709dof08b5x', feature_schema_id='clrkpudnd01jd0709b2eegbob', options=[]), Option(value='muma_yellow_goatfish', label='MUMA (Yellow Goatfish)', schema_id='clrkpudnd01jg0709hicpgiqj', feature_schema_id='clrkpudnd01jf07094gzkh974', options=[]), Option(value='myja_blackbar_soldierfish', label='MYJA (Blackbar Soldierfish)', schema_id='clr6rzlg60jfw07yv5dfx8piw', feature_schema_id='clr6rzlg60jfv07yv6ax90ytu', options=[]), Option(value='occh_yellowtail_snapper', label='OCCH (Yellowtail Snapper)', schema_id='clr6rzlg60jfy07yvdtej5s25', feature_schema_id='clr6rzlg60jfx07yv8jqnahvc', options=[]), Option(value='opau_yellowheaded_jawfish', label='OPAU (Yellowheaded Jawfish)', schema_id='clr6rzlg60jg007yvfcuqgqjq', feature_schema_id='clr6rzlg60jfz07yvfuxl1ziv', options=[]), Option(value='opis_unknown', label='OPIS_UNKNOWN (Unknown Jawfish (Opistognathidae))', schema_id='clr6rzlg60jg207yvfo2k0jt6', feature_schema_id='clr6rzlg60jg107yvhl0f06oc', options=[]), Option(value='ostr_unknown', label='OSTR_UNKNOWN (Unknown Boxfish (Ostraciidae))', schema_id='clr6rzlg70jg407yvacm4dcir', feature_schema_id='clr6rzlg60jg307yvf83re8is', options=[]), Option(value='papa_french_angel', label='PAPA (French Angel)', schema_id='clr6rzlg70jg607yvgshza2o5', feature_schema_id='clr6rzlg70jg507yv2pxs1wh1', options=[]), Option(value='poar_gray_angel', label='POAR (Gray Angel)', schema_id='clr6rzlg70jg807yv3ojzbaph', feature_schema_id='clr6rzlg70jg707yvhwgpcr0o', options=[]), Option(value='poma_unknown', label='POMA_UNKNOWN (Unknown Angelfish (Pomacanthidae))', schema_id='clr6rzlg70jga07yvaoqxfes9', feature_schema_id='clr6rzlg70jg907yv705s4olz', options=[]), Option(value='pome_unknown', label='POME_UNKNOWN (Unknown Damselfish (Pomacentridae))', schema_id='clr6rzlg70jgc07yvcjdf3dzp', feature_schema_id='clr6rzlg70jgb07yv2dvy5mrx', options=[]), Option(value='psma_spotted_goatfish', label='PSMA (Spotted Goatfish)', schema_id='clrkpudnd01jr0709b3cdbphn', feature_schema_id='clrkpudnd01jq07097wx5ffjz', options=[]), Option(value='ptsp_generic_lionfish', label='PTSP (Generic Lionfish)', schema_id='clr6rzlg70jge07yvay2pbfdc', feature_schema_id='clr6rzlg70jgd07yv0mov1oi3', options=[]), Option(value='rere_remora', label='RERE (Remora)', schema_id='clr6rzlg70jgg07yv66e0f7ch', feature_schema_id='clr6rzlg70jgf07yv3o1fc2yi', options=[]), Option(value='scia_unknown', label='SCIA_UNKNOWN (Unknown Drum (Sciaenidae))', schema_id='clr6rzlg70jgi07yvef677zvg', feature_schema_id='clr6rzlg70jgh07yvad215kay', options=[]), Option(value='scis_striped_parrotfish', label='SCIS (Striped Parrotfish)', schema_id='clr6rzlg70jgk07yvfq9h4qtg', feature_schema_id='clr6rzlg70jgj07yv8d9w37fu', options=[]), Option(value='scor_unknown', label='SCOR_UNKNOWN (Unknown Scorpionfish (Scorpaenidae))', schema_id='clr6rzlg70jgm07yvcbfpc5tw', feature_schema_id='clr6rzlg70jgl07yv2zyc7ffv', options=[]), Option(value='scpl_spotted_scorpionfish', label='SCPL (Spotted Scorpionfish)', schema_id='clr6rzlg70jgo07yv4guweiie', feature_schema_id='clr6rzlg70jgn07yva8lccwdf', options=[]), Option(value='scta_princess_parrotfish', label='SCTA (Princess Parrotfish)', schema_id='clr6rzlg70jgq07yv70201se5', feature_schema_id='clr6rzlg70jgp07yv3khi2fsy', options=[]), Option(value='scve_queen_parrotfish', label='SCVE (Queen Parrotfish)', schema_id='clr6rzlg70jgs07yv8q51d4fq', feature_schema_id='clr6rzlg70jgr07yvcxy1gb24', options=[]), Option(value='serr_unknown', label='SERR_UNKNOWN (Unknown Grouper (Serranidae))', schema_id='clr6rzlg70jgu07yv9sfn800a', feature_schema_id='clr6rzlg70jgt07yvafyh9e6l', options=[]), Option(value='sote_checkered_puffer', label='SOTE (Checkered Puffer)', schema_id='clr6rzlg70jgw07yv9p0n8cbx', feature_schema_id='clr6rzlg70jgv07yvdn055ixz', options=[]), Option(value='spau_redband_parrotfish', label='SPAU (Redband Parrotfish)', schema_id='clr6rzlg70jgy07yvhf43ged7', feature_schema_id='clr6rzlg70jgx07yvc7h0443t', options=[]), Option(value='spba_barracuda', label='SPBA (Barracuda)', schema_id='clr6rzlg70jh007yv1mg4gxvk', feature_schema_id='clr6rzlg70jgz07yvfhtf2x74', options=[]), Option(value='sphy_unknown', label='SPHY_UNKNOWN (Unknown Barracuda (Sphyraenidae))', schema_id='clr6rzlg70jh207yve8a57q7v', feature_schema_id='clr6rzlg70jh107yveqk60qao', options=[]), Option(value='spvi_spotlight_parrotfish', label='SPVI (Spotlight Parrotfish)', schema_id='clr6rzlg70jh407yv92tzamhy', feature_schema_id='clr6rzlg70jh307yvfqa025sa', options=[]), Option(value='stad_dusky_damselfish', label='STAD (Dusky Damselfish)', schema_id='clr6rzlg70jh607yv6h023d0e', feature_schema_id='clr6rzlg70jh507yvdyiug38m', options=[]), Option(value='stdi_longfin_damselfish', label='STDI (Longfin Damselfish)', schema_id='clr6rzlg70jh807yv52cff56j', feature_schema_id='clr6rzlg70jh707yv9a4fb7p2', options=[]), Option(value='stle_beaugregory', label='STLE (Beaugregory)', schema_id='clr6rzlg70jha07yv2og35e8r', feature_schema_id='clr6rzlg70jh907yvdr4z8yg2', options=[]), Option(value='stpa_bicolor_damselfish', label='STPA (Bicolor Damselfish)', schema_id='clr6rzlg70jhc07yve4big8sg', feature_schema_id='clr6rzlg70jhb07yv2mrk1mqz', options=[]), Option(value='stpl_three_spot_damselfish', label='STPL (Three Spot Damselfish)', schema_id='clr6rzlg70jhe07yv45i2hx3o', feature_schema_id='clr6rzlg70jhd07yvfvcd3rse', options=[]), Option(value='stxa_cocoa_damselfish', label='STXA (Cocoa Damselfish)', schema_id='clr6rzlg70jhg07yvcubqcskf', feature_schema_id='clr6rzlg70jhf07yve7w33l55', options=[]), Option(value='tetr_unknown', label='TETR_UNKNOWN (Unknown Puffer (Tetraodontidae))', schema_id='clr6rzlg80jhi07yv6e0pegu7', feature_schema_id='clr6rzlg70jhh07yv1vnw0las', options=[]), Option(value='thbi_bluehead_wrasse', label='THBI (Bluehead Wrasse)', schema_id='clr6rzlg80jhk07yv9de6dkpv', feature_schema_id='clr6rzlg80jhj07yvh78v89vd', options=[]), Option(value='gerr_unknown_unknown_mojarra_gerreidae', label='GERR_UNKNOWN (Unknown Mojarra (Gerreidae))', schema_id='clrnweskl025g071ybxsg7ps7', feature_schema_id='clrnweskl025f071yghku2fi3', options=[]), Option(value='bali_unknown', label='BALI_UNKNOWN (Unknown Triggerfish (Balistidae))', schema_id='cls2014i801oa07wrata7emoq', feature_schema_id='cls2014i801o907wrbbtqf6j4', options=[]), Option(value='spar_unknown_unknown_porgy', label='SPAR_UNKNOWN (Unknown Porgy)', schema_id='cluli5y8r03bv073782fk2pqw', feature_schema_id='cluli5y8r03bu0737ahp4ho09', options=[])], schema_id='clr6rzlg80jhl07yv3sxc3tgd', feature_schema_id='clr6rzlg40jc807yv5bue3aqa', scope=<Scope.GLOBAL: 'global'>)], schema_id='clqo6by6j0if007ya1tvvaqs5', feature_schema_id='clqo6by6j0iez07yabwokelrd')\n",
      "\n",
      "===PROJECT DETAILS===\n",
      "Name:  WHOI-RSI-USVI-Fish-detect-and-track\n",
      "\n",
      "===DATASET DETAILS===\n",
      "Name:  imerit-26102023-3fps-clips\n"
     ]
    }
   ],
   "source": [
    "import labelbox as lb\n",
    "import labelbox.types as lb_types\n",
    "import uuid\n",
    "import base64\n",
    "import requests\n",
    "\n",
    "# Setup client\n",
    "with open(\"labelbox_api_key.txt\",\"r\") as f:\n",
    "    API_KEY = f.read().strip()\n",
    "client = lb.Client(api_key=API_KEY)\n",
    "\n",
    "# Get ontology\n",
    "print(\"===ONTOLOGY DETAILS===\")\n",
    "ontology = client.get_ontology(\"clqo6bd8v0jc407ybc1r9ehlb\")\n",
    "print(\"Name: \", ontology.name)\n",
    "tools = ontology.tools()\n",
    "for tool in tools:\n",
    "  print(tool)\n",
    "\n",
    "# Get project\n",
    "print(\"\\n===PROJECT DETAILS===\")\n",
    "PROJECT_ID = 'clqoh3ylw1o8s070hd6ch5z7o' # WHOI RSI USVI Fish\n",
    "# PROJECT_ID = 'clqo7auln0mpo07wphorp0t2e' # Test WHOI RSI USVI Fish\n",
    "project = client.get_project(PROJECT_ID)\n",
    "print(\"Name: \", project.name)\n",
    "\n",
    "# Get dataset\n",
    "DATASET_ID = \"clqh7v7qi001r07886j6aws7i\"\n",
    "dataset = client.get_dataset(DATASET_ID)\n",
    "print(\"\\n===DATASET DETAILS===\")\n",
    "print(\"Name: \", dataset.name)"
   ]
  },
  {
   "cell_type": "code",
   "execution_count": 5,
   "id": "530ec881-d0eb-4170-ace1-c37842f1476b",
   "metadata": {},
   "outputs": [],
   "source": [
    "# Verify Datarow metadata\n",
    "data_rows = dataset.export_data_rows()\n",
    "\n",
    "assert len(list(data_rows)) == 163, len(list(data_rows))\n",
    "\n",
    "for data_row_ind, data_row in enumerate(data_rows):\n",
    "    assert data_row.media_attributes[\"frameCount\"]==90, data_row\n",
    "    assert data_row.media_attributes[\"frameRate\"]==3, data_row\n"
   ]
  },
  {
   "cell_type": "code",
   "execution_count": 6,
   "id": "3a174060-073e-46b1-8fd5-b11aa4c99bd9",
   "metadata": {},
   "outputs": [
    {
     "ename": "ValueError",
     "evalue": "Job status still in `IN_PROGRESS`. The result is not available. Call task.wait_till_done() with a larger timeout or contact support.",
     "output_type": "error",
     "traceback": [
      "\u001b[0;31m---------------------------------------------------------------------------\u001b[0m",
      "\u001b[0;31mValueError\u001b[0m                                Traceback (most recent call last)",
      "Cell \u001b[0;32mIn[6], line 16\u001b[0m\n\u001b[1;32m     13\u001b[0m export_task \u001b[38;5;241m=\u001b[39m project\u001b[38;5;241m.\u001b[39mexport_v2(params\u001b[38;5;241m=\u001b[39mparams)\n\u001b[1;32m     15\u001b[0m export_task\u001b[38;5;241m.\u001b[39mwait_till_done()\n\u001b[0;32m---> 16\u001b[0m \u001b[38;5;28;01mif\u001b[39;00m export_task\u001b[38;5;241m.\u001b[39merrors:\n\u001b[1;32m     17\u001b[0m \t\u001b[38;5;28mprint\u001b[39m(export_task\u001b[38;5;241m.\u001b[39merrors)\n\u001b[1;32m     18\u001b[0m export_json \u001b[38;5;241m=\u001b[39m export_task\u001b[38;5;241m.\u001b[39mresult\n",
      "File \u001b[0;32m/media/data/anaconda3_envs/aws_labelbox/lib/python3.11/site-packages/labelbox/schema/task.py:95\u001b[0m, in \u001b[0;36mTask.errors\u001b[0;34m(self)\u001b[0m\n\u001b[1;32m     93\u001b[0m         \u001b[38;5;28;01mreturn\u001b[39;00m \u001b[38;5;28mself\u001b[39m\u001b[38;5;241m.\u001b[39mfailed_data_rows\n\u001b[1;32m     94\u001b[0m \u001b[38;5;28;01melif\u001b[39;00m \u001b[38;5;28mself\u001b[39m\u001b[38;5;241m.\u001b[39mtype \u001b[38;5;241m==\u001b[39m \u001b[38;5;124m\"\u001b[39m\u001b[38;5;124mexport-data-rows\u001b[39m\u001b[38;5;124m\"\u001b[39m:\n\u001b[0;32m---> 95\u001b[0m     \u001b[38;5;28;01mreturn\u001b[39;00m \u001b[38;5;28mself\u001b[39m\u001b[38;5;241m.\u001b[39m_fetch_remote_json(remote_json_field\u001b[38;5;241m=\u001b[39m\u001b[38;5;124m'\u001b[39m\u001b[38;5;124merrors_url\u001b[39m\u001b[38;5;124m'\u001b[39m)\n\u001b[1;32m     96\u001b[0m \u001b[38;5;28;01melif\u001b[39;00m (\u001b[38;5;28mself\u001b[39m\u001b[38;5;241m.\u001b[39mtype \u001b[38;5;241m==\u001b[39m \u001b[38;5;124m\"\u001b[39m\u001b[38;5;124madd-data-rows-to-batch\u001b[39m\u001b[38;5;124m\"\u001b[39m \u001b[38;5;129;01mor\u001b[39;00m\n\u001b[1;32m     97\u001b[0m       \u001b[38;5;28mself\u001b[39m\u001b[38;5;241m.\u001b[39mtype \u001b[38;5;241m==\u001b[39m \u001b[38;5;124m\"\u001b[39m\u001b[38;5;124msend-to-task-queue\u001b[39m\u001b[38;5;124m\"\u001b[39m \u001b[38;5;129;01mor\u001b[39;00m\n\u001b[1;32m     98\u001b[0m       \u001b[38;5;28mself\u001b[39m\u001b[38;5;241m.\u001b[39mtype \u001b[38;5;241m==\u001b[39m \u001b[38;5;124m\"\u001b[39m\u001b[38;5;124msend-to-annotate\u001b[39m\u001b[38;5;124m\"\u001b[39m):\n\u001b[1;32m     99\u001b[0m     \u001b[38;5;28;01mif\u001b[39;00m \u001b[38;5;28mself\u001b[39m\u001b[38;5;241m.\u001b[39mstatus \u001b[38;5;241m==\u001b[39m \u001b[38;5;124m\"\u001b[39m\u001b[38;5;124mFAILED\u001b[39m\u001b[38;5;124m\"\u001b[39m:\n\u001b[1;32m    100\u001b[0m         \u001b[38;5;66;03m# for these tasks, the error is embedded in the result itself\u001b[39;00m\n",
      "File \u001b[0;32m/media/data/anaconda3_envs/aws_labelbox/lib/python3.11/site-packages/labelbox/schema/task.py:181\u001b[0m, in \u001b[0;36mTask._fetch_remote_json\u001b[0;34m(self, remote_json_field)\u001b[0m\n\u001b[1;32m    179\u001b[0m \u001b[38;5;28mself\u001b[39m\u001b[38;5;241m.\u001b[39mwait_till_done(timeout_seconds\u001b[38;5;241m=\u001b[39m\u001b[38;5;241m600\u001b[39m)\n\u001b[1;32m    180\u001b[0m \u001b[38;5;28;01mif\u001b[39;00m \u001b[38;5;28mself\u001b[39m\u001b[38;5;241m.\u001b[39mstatus \u001b[38;5;241m==\u001b[39m \u001b[38;5;124m\"\u001b[39m\u001b[38;5;124mIN_PROGRESS\u001b[39m\u001b[38;5;124m\"\u001b[39m:\n\u001b[0;32m--> 181\u001b[0m     \u001b[38;5;28;01mraise\u001b[39;00m \u001b[38;5;167;01mValueError\u001b[39;00m(\n\u001b[1;32m    182\u001b[0m         \u001b[38;5;124m\"\u001b[39m\u001b[38;5;124mJob status still in `IN_PROGRESS`. The result is not available. Call task.wait_till_done() with a larger timeout or contact support.\u001b[39m\u001b[38;5;124m\"\u001b[39m\n\u001b[1;32m    183\u001b[0m     )\n\u001b[1;32m    184\u001b[0m \u001b[38;5;28;01mreturn\u001b[39;00m download_result(remote_json_field, \u001b[38;5;28mformat\u001b[39m)\n",
      "\u001b[0;31mValueError\u001b[0m: Job status still in `IN_PROGRESS`. The result is not available. Call task.wait_till_done() with a larger timeout or contact support."
     ]
    }
   ],
   "source": [
    "# Export JSON Labels\n",
    "params = {\n",
    "\t\"data_row_details\": True,\n",
    "\t\"metadata_fields\": True,\n",
    "\t\"attachments\": True,\n",
    "\t\"project_details\": True,\n",
    "\t\"performance_details\": True,\n",
    "\t\"label_details\": True,\n",
    "\t\"interpolated_frames\": True\n",
    "}\n",
    "\n",
    "project = client.get_project(PROJECT_ID)\n",
    "export_task = project.export_v2(params=params)\n",
    "\n",
    "export_task.wait_till_done()\n",
    "if export_task.errors:\n",
    "\tprint(export_task.errors)\n",
    "export_json = export_task.result\n",
    "print(export_json)"
   ]
  },
  {
   "cell_type": "code",
   "execution_count": null,
   "id": "6cbfb054-ddea-4076-96ff-2221a9f649c0",
   "metadata": {},
   "outputs": [],
   "source": [
    "output_data = \"whoi-rsi-fish-detections-labels.json\"\n",
    "with open(output_data, 'w') as f:\n",
    "    json.dump(export_json, f)"
   ]
  },
  {
   "cell_type": "code",
   "execution_count": 4,
   "id": "c51e54e3-8e45-4985-adb6-bc0c280ba086",
   "metadata": {},
   "outputs": [],
   "source": [
    "import glob\n",
    "import jsonlines\n",
    "from pathlib import Path\n",
    "import natsort\n",
    "import json\n",
    "\n",
    "# Setup local directories\n",
    "dataset_root = Path(\"/media/data/warp_data/marine_detection/imerit/whoi-rsi-fish-detection-datasets-22122023\")\n",
    "images_dir = \"/media/data/warp_data/marine_detection/imerit/whoi-rsi-fish-detection-datasets-22122023\"\n",
    "manifest_path = \"/media/data/warp_data/marine_detection/imerit/whoi-rsi-fish-detection-datasets-22122023/28102023_manifest.json\"\n",
    "coco_json_path = dataset_root / \"coco.json\"\n",
    "\n",
    "# Parse manifest to get proper filenames and directories\n",
    "# We use the relative path and video name with aws_id as GLOBAL_KEYS for LABELBOX\n",
    "ordered_video_dirs = []\n",
    "ordered_global_keys = []\n",
    "ordered_videos_with_aws_ids = []\n",
    "name_to_global_key = {}\n",
    "replace_root = \"s3://whoi-rsi-fish-detection/datasets/imerit_26102023_clips/\"\n",
    "with jsonlines.open(manifest_path) as f:\n",
    "    for video_num, video_json in enumerate(f):\n",
    "        video_path = Path(video_json['source-ref'].replace(replace_root, \"\"))\n",
    "        ordered_video_dirs.append(video_path.parent)\n",
    "        aws_id = video_num\n",
    "        \n",
    "        labelbox_name = video_path.parent.stem + f\"_aws{aws_id}.mp4\"\n",
    "        labelbox_global_key = str(video_path.parent) + f\"_aws{aws_id}.mp4\"\n",
    "        \n",
    "        ordered_videos_with_aws_ids.append(labelbox_name)\n",
    "        ordered_global_keys.append(labelbox_global_key)\n",
    "        name_to_global_key[labelbox_name] = labelbox_global_key"
   ]
  },
  {
   "cell_type": "code",
   "execution_count": null,
   "id": "08a0f9d6-b404-4551-bde0-1be42689843b",
   "metadata": {},
   "outputs": [],
   "source": [
    "# Assign global keys to dataset (DO NOT RUN THIS UNLESS YOU KNOW WHAT YOU'RE DOING)\n",
    "dry_run = True\n",
    "\n",
    "data_rows = dataset.export_data_rows()\n",
    "global_key_assignments = []\n",
    "for data_row in data_rows:\n",
    "    # if global_key exists, probably should not run this at all\n",
    "    assert data_row.global_key is None, data_row\n",
    "    # print(data_row)\n",
    "    global_key_assignments.append({\n",
    "        \"data_row_id\": data_row.uid,\n",
    "        \"global_key\": name_to_global_key[data_row.external_id]\n",
    "    })\n",
    "    \n",
    "if dry_run:\n",
    "    print(\"Num keys to assign: \", len(global_key_assignments))\n",
    "    print(\"Payload\", global_key_assignments)\n",
    "else:\n",
    "    print(\"Num keys to assign: \", len(global_key_assignments))\n",
    "    res = client.assign_global_keys_to_data_rows(global_key_assignments)\n",
    "    print(res)\n",
    "    "
   ]
  }
 ],
 "metadata": {
  "kernelspec": {
   "display_name": "Python 3 (ipykernel)",
   "language": "python",
   "name": "python3"
  },
  "language_info": {
   "codemirror_mode": {
    "name": "ipython",
    "version": 3
   },
   "file_extension": ".py",
   "mimetype": "text/x-python",
   "name": "python",
   "nbconvert_exporter": "python",
   "pygments_lexer": "ipython3",
   "version": "3.11.5"
  }
 },
 "nbformat": 4,
 "nbformat_minor": 5
}
