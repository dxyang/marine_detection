{
 "cells": [
  {
   "cell_type": "code",
   "execution_count": 35,
   "id": "ae5b1590-7430-48b4-912d-93d5eb570a64",
   "metadata": {},
   "outputs": [
    {
     "name": "stdout",
     "output_type": "stream",
     "text": [
      "<class 'str'>\n",
      "===ONTOLOGY DETAILS===\n",
      "Name:  WHOI-RSI-USVI-Fish\n",
      "Tool(tool=<Type.BBOX: 'rectangle'>, name='Fish', required=False, color='#1CE6FF', classifications=[], schema_id='clqo6by6j0if007ya1tvvaqs5', feature_schema_id='clqo6by6j0iez07yabwokelrd')\n",
      "\n",
      "===PROJECT DETAILS===\n",
      "Name:  test-whoi-rsi-usvi-fish-detection-and-tracking\n",
      "\n",
      "===DATASET DETAILS===\n",
      "Name:  imerit-26102023-3fps-clips\n"
     ]
    }
   ],
   "source": [
    "import labelbox as lb\n",
    "import labelbox.types as lb_types\n",
    "import uuid\n",
    "import base64\n",
    "import requests\n",
    "\n",
    "# Setup client\n",
    "with open(\"labelbox_api_key.txt\",\"r\") as f:\n",
    "    API_KEY = f.read().strip()\n",
    "client = lb.Client(api_key=API_KEY)\n",
    "\n",
    "# Get ontology\n",
    "print(\"===ONTOLOGY DETAILS===\")\n",
    "ontology = client.get_ontology(\"clqo6bd8v0jc407ybc1r9ehlb\")\n",
    "print(\"Name: \", ontology.name)\n",
    "tools = ontology.tools()\n",
    "for tool in tools:\n",
    "  print(tool)\n",
    "\n",
    "# Get project\n",
    "print(\"\\n===PROJECT DETAILS===\")\n",
    "PROJECT_ID = 'clqo7auln0mpo07wphorp0t2e'\n",
    "project = client.get_project(PROJECT_ID)\n",
    "print(\"Name: \", project.name)\n",
    "\n",
    "# Get dataset\n",
    "DATASET_ID = \"clqh7v7qi001r07886j6aws7i\"\n",
    "dataset = client.get_dataset(DATASET_ID)\n",
    "print(\"\\n===DATASET DETAILS===\")\n",
    "print(\"Name: \", dataset.name)"
   ]
  },
  {
   "cell_type": "code",
   "execution_count": null,
   "id": "530ec881-d0eb-4170-ace1-c37842f1476b",
   "metadata": {},
   "outputs": [],
   "source": [
    "# Verify Datarow metadata\n",
    "data_rows = dataset.export_data_rows()\n",
    "\n",
    "assert len(list(data_rows)) == 163, len(list(data_rows))\n",
    "\n",
    "for data_row_ind, data_row in enumerate(data_rows):\n",
    "    assert data_row.media_attributes[\"frameCount\"]==90, data_row\n",
    "    assert data_row.media_attributes[\"frameRate\"]==3, data_row\n"
   ]
  },
  {
   "cell_type": "code",
   "execution_count": null,
   "id": "c51e54e3-8e45-4985-adb6-bc0c280ba086",
   "metadata": {},
   "outputs": [],
   "source": [
    "import glob\n",
    "import jsonlines\n",
    "from pathlib import Path\n",
    "import natsort\n",
    "import json\n",
    "\n",
    "# Setup local directories\n",
    "dataset_root = Path(\"/media/data/warp_data/marine_detection/imerit/whoi-rsi-fish-detection-datasets-22122023\")\n",
    "images_dir = \"/media/data/warp_data/marine_detection/imerit/whoi-rsi-fish-detection-datasets-22122023\"\n",
    "manifest_path = \"/media/data/warp_data/marine_detection/imerit/whoi-rsi-fish-detection-datasets-22122023/28102023_manifest.json\"\n",
    "coco_json_path = dataset_root / \"coco.json\"\n",
    "\n",
    "# Parse manifest to get proper filenames and directories\n",
    "# We use the relative path and video name with aws_id as GLOBAL_KEYS for LABELBOX\n",
    "ordered_video_dirs = []\n",
    "ordered_global_keys = []\n",
    "ordered_videos_with_aws_ids = []\n",
    "name_to_global_key = {}\n",
    "replace_root = \"s3://whoi-rsi-fish-detection/datasets/imerit_26102023_clips/\"\n",
    "with jsonlines.open(manifest_path) as f:\n",
    "    for video_num, video_json in enumerate(f):\n",
    "        video_path = Path(video_json['source-ref'].replace(replace_root, \"\"))\n",
    "        ordered_video_dirs.append(video_path.parent)\n",
    "        aws_id = video_num\n",
    "        \n",
    "        labelbox_name = video_path.parent.stem + f\"_aws{aws_id}.mp4\"\n",
    "        labelbox_global_key = str(video_path.parent) + f\"_aws{aws_id}.mp4\"\n",
    "        \n",
    "        ordered_videos_with_aws_ids.append(labelbox_name)\n",
    "        ordered_global_keys.append(labelbox_global_key)\n",
    "        name_to_global_key[labelbox_name] = labelbox_global_key"
   ]
  },
  {
   "cell_type": "code",
   "execution_count": null,
   "id": "08a0f9d6-b404-4551-bde0-1be42689843b",
   "metadata": {},
   "outputs": [],
   "source": [
    "# Assign global keys to dataset (DO NOT RUN THIS UNLESS YOU KNOW WHAT YOU'RE DOING)\n",
    "dry_run = True\n",
    "\n",
    "data_rows = dataset.export_data_rows()\n",
    "global_key_assignments = []\n",
    "for data_row in data_rows:\n",
    "    # if global_key exists, probably should not run this at all\n",
    "    assert data_row.global_key is None, data_row\n",
    "    # print(data_row)\n",
    "    global_key_assignments.append({\n",
    "        \"data_row_id\": data_row.uid,\n",
    "        \"global_key\": name_to_global_key[data_row.external_id]\n",
    "    })\n",
    "    \n",
    "if dry_run:\n",
    "    print(\"Num keys to assign: \", len(global_key_assignments))\n",
    "    print(\"Payload\", global_key_assignments)\n",
    "else:\n",
    "    print(\"Num keys to assign: \", len(global_key_assignments))\n",
    "    res = client.assign_global_keys_to_data_rows(global_key_assignments)\n",
    "    print(res)\n",
    "    "
   ]
  }
 ],
 "metadata": {
  "kernelspec": {
   "display_name": "Python 3 (ipykernel)",
   "language": "python",
   "name": "python3"
  },
  "language_info": {
   "codemirror_mode": {
    "name": "ipython",
    "version": 3
   },
   "file_extension": ".py",
   "mimetype": "text/x-python",
   "name": "python",
   "nbconvert_exporter": "python",
   "pygments_lexer": "ipython3",
   "version": "3.11.5"
  }
 },
 "nbformat": 4,
 "nbformat_minor": 5
}
