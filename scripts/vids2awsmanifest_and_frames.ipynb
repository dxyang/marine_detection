{
 "cells": [
  {
   "cell_type": "code",
   "execution_count": null,
   "id": "ef74b7ff",
   "metadata": {},
   "outputs": [],
   "source": [
    "import glob\n",
    "import os\n",
    "from pathlib import Path\n",
    "import json\n",
    "import subprocess\n",
    "from tqdm import tqdm\n",
    "import jsonlines"
   ]
  },
  {
   "cell_type": "code",
   "execution_count": null,
   "id": "56e27ffa",
   "metadata": {},
   "outputs": [],
   "source": [
    "video_dir = os.path.expanduser(\"/Users/dxy/Desktop/warp/imerit_26102023_clips/\")"
   ]
  },
  {
   "cell_type": "code",
   "execution_count": null,
   "id": "bfe3e915",
   "metadata": {},
   "outputs": [],
   "source": [
    "vids_1 = glob.glob(f\"{video_dir}/*/*.MOV\")\n",
    "vids_2 = glob.glob(f\"{video_dir}/*/*/*.MOV\")\n",
    "\n",
    "print(len(vids_1))\n",
    "print(len(vids_2))\n",
    "\n",
    "all_vids = vids_1 + vids_2\n",
    "all_vids = [Path(p) for p in all_vids]\n",
    "all_vids.sort()\n",
    "print(f\"Total num vids: {len(all_vids)}\")\n",
    "# for p in all_vids:\n",
    "#     print(p)"
   ]
  },
  {
   "cell_type": "code",
   "execution_count": null,
   "id": "db2f3b71",
   "metadata": {
    "scrolled": false
   },
   "outputs": [],
   "source": [
    "every_nth_frame = 10\n",
    "dry_run = False\n",
    "skip_ffmpeg = True\n",
    "expected_frames = 90\n",
    "\n",
    "dataset_manifest = []\n",
    "\n",
    "for seq_num, p in tqdm(enumerate(all_vids)):\n",
    "#     print(f\"Basics -----------\")\n",
    "#     print(p)\n",
    "#     print(p.parent)\n",
    "#     print(p.stem)\n",
    "    \n",
    "    # create a directory to hold frames\n",
    "    frame_dir = p.parent / p.stem\n",
    "    s3_dir = str(frame_dir).replace(\"/Users/dxy/Desktop/warp\", \"s3://whoi-rsi-fish-detection/datasets\") + \"/\"\n",
    "    if not dry_run:\n",
    "        os.makedirs(frame_dir, exist_ok=True)\n",
    "    \n",
    "    # form ffmpeg command to turn into frames\n",
    "    ffmpeg_cmd = f'ffmpeg -i \"{str(p)}\" -vf \"select=not(mod(n\\,{every_nth_frame}))\" -vsync vfr -start_number 0 \"{frame_dir}/frame_%03d.png\"'\n",
    "    if not dry_run and not skip_ffmpeg:\n",
    "        os.system(ffmpeg_cmd)\n",
    "    \n",
    "    # make sure it generated expected_frames frames\n",
    "    frame_fps = glob.glob(f\"{str(frame_dir)}/*.png\")\n",
    "    if len(frame_fps) != expected_frames:\n",
    "        print(f\"[Warning] Did not create {expected_frames} frames! {str(p)}*****\")\n",
    "    \n",
    "    # create manifest for aws\n",
    "    frame_list_dict = [{\n",
    "        \"frame-no\": frame_num, \n",
    "        \"frame\": f\"frame_{str(frame_num).zfill(3)}.png\"\n",
    "    } for frame_num in range(expected_frames)]\n",
    "    \n",
    "    seq_path = frame_dir / f\"{p.stem}_sequence_3fps.json\"\n",
    "        \n",
    "    s3_seq_path = str(seq_path).replace(\"/Users/dxy/Desktop/warp\", \"s3://whoi-rsi-fish-detection/datasets\")\n",
    "\n",
    "    seq_manifest = {\n",
    "        \"seq-no\": seq_num,\n",
    "        \"prefix\": s3_dir,\n",
    "        \"number-of-frames\": expected_frames,\n",
    "        \"frames\": frame_list_dict\n",
    "    }\n",
    "     \n",
    "    if not dry_run:\n",
    "        with jsonlines.open(seq_path, mode='w') as writer:\n",
    "            writer.write(seq_manifest)\n",
    "\n",
    "    dataset_manifest.append(\n",
    "        {\"source-ref\": s3_seq_path}\n",
    "    )\n",
    "\n",
    "    \n",
    "dataset_manifest_path = \"/Users/dxy/Desktop/warp/imerit_26102023_clips/28102023_manifest.json\"\n",
    "if not dry_run:\n",
    "    with jsonlines.open(dataset_manifest_path, mode='w') as writer:\n",
    "        for line in dataset_manifest:\n",
    "            writer.write(line)\n",
    "    print(f\"created dataset manifest: {dataset_manifest_path}\")    "
   ]
  },
  {
   "cell_type": "code",
   "execution_count": null,
   "id": "f36e689b",
   "metadata": {},
   "outputs": [],
   "source": []
  },
  {
   "cell_type": "code",
   "execution_count": null,
   "id": "bf16c170",
   "metadata": {},
   "outputs": [],
   "source": []
  },
  {
   "cell_type": "code",
   "execution_count": null,
   "id": "250b6748",
   "metadata": {},
   "outputs": [],
   "source": []
  },
  {
   "cell_type": "code",
   "execution_count": null,
   "id": "42ed46db",
   "metadata": {},
   "outputs": [],
   "source": []
  },
  {
   "cell_type": "code",
   "execution_count": null,
   "id": "fe37f6dc",
   "metadata": {},
   "outputs": [],
   "source": []
  }
 ],
 "metadata": {
  "kernelspec": {
   "display_name": "Python 3 (ipykernel)",
   "language": "python",
   "name": "python3"
  },
  "language_info": {
   "codemirror_mode": {
    "name": "ipython",
    "version": 3
   },
   "file_extension": ".py",
   "mimetype": "text/x-python",
   "name": "python",
   "nbconvert_exporter": "python",
   "pygments_lexer": "ipython3",
   "version": "3.9.16"
  }
 },
 "nbformat": 4,
 "nbformat_minor": 5
}
